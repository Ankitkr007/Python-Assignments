{
  "nbformat": 4,
  "nbformat_minor": 0,
  "metadata": {
    "colab": {
      "provenance": []
    },
    "kernelspec": {
      "name": "python3",
      "display_name": "Python 3"
    },
    "language_info": {
      "name": "python"
    }
  },
  "cells": [
    {
      "cell_type": "markdown",
      "source": [
        "#QUESTION 1:\n",
        "Define a class with a generator which can iterate the numbers, which are divisible by 7, between a given range 0 and n."
      ],
      "metadata": {
        "id": "H9gpMKJnkvc8"
      }
    },
    {
      "cell_type": "code",
      "source": [
        "class DivisibleBySeven:\n",
        "    def __init__(self, n):\n",
        "        self.n = n\n",
        "\n",
        "    def divisible_by_seven_generator(self):\n",
        "        for num in range(self.n + 1):\n",
        "            if num % 7 == 0:\n",
        "                yield num\n",
        "\n",
        "n = 50\n",
        "divisible_by_seven = DivisibleBySeven(n)\n",
        "generator = divisible_by_seven.divisible_by_seven_generator()\n",
        "\n",
        "for num in generator:\n",
        "    print(num)\n"
      ],
      "metadata": {
        "colab": {
          "base_uri": "https://localhost:8080/"
        },
        "id": "w4iqXqE_kz03",
        "outputId": "a18e9ee0-45b8-4eb8-fb93-8f1a69c9f91c"
      },
      "execution_count": 1,
      "outputs": [
        {
          "output_type": "stream",
          "name": "stdout",
          "text": [
            "0\n",
            "7\n",
            "14\n",
            "21\n",
            "28\n",
            "35\n",
            "42\n",
            "49\n"
          ]
        }
      ]
    },
    {
      "cell_type": "markdown",
      "source": [
        "#QUESTION 2:\n",
        "Write a program to compute the frequency of the words from the input. The output\n",
        "should output after sorting the key alphanumerically.\n",
        "Suppose the following input is supplied to the program:\n",
        "New to Python or choosing between Python 2 and Python 3? Read Python 2 or\n",
        "Python 3.\n",
        "Then, the output should be:\n",
        "2:2\n",
        "3.:1\n",
        "3?:1\n",
        "New:1\n",
        "Python:5\n",
        "Read:1\n",
        "and:1\n",
        "between:1\n",
        "choosing:1\n",
        "or:2\n",
        "to:1"
      ],
      "metadata": {
        "id": "F5LQNwP_lLGc"
      }
    },
    {
      "cell_type": "code",
      "source": [
        "def word_frequency(input_text):\n",
        "    words = input_text.split()\n",
        "    frequency = {}\n",
        "\n",
        "    for word in words:\n",
        "        if word in frequency:\n",
        "            frequency[word] += 1\n",
        "        else:\n",
        "            frequency[word] = 1\n",
        "\n",
        "    sorted_frequency = sorted(frequency.items(), key=lambda x: x[0])\n",
        "\n",
        "    for word, count in sorted_frequency:\n",
        "        print(f\"{word}:{count}\")\n",
        "\n",
        "input_text = \"New to Python or choosing between Python 2 and Python 3? Read Python 2 or Python 3.\"\n",
        "word_frequency(input_text)\n"
      ],
      "metadata": {
        "colab": {
          "base_uri": "https://localhost:8080/"
        },
        "id": "E2r2HQFylIKY",
        "outputId": "7b7ebf7a-4fc3-46d8-d603-7b8035fde454"
      },
      "execution_count": 2,
      "outputs": [
        {
          "output_type": "stream",
          "name": "stdout",
          "text": [
            "2:2\n",
            "3.:1\n",
            "3?:1\n",
            "New:1\n",
            "Python:5\n",
            "Read:1\n",
            "and:1\n",
            "between:1\n",
            "choosing:1\n",
            "or:2\n",
            "to:1\n"
          ]
        }
      ]
    },
    {
      "cell_type": "markdown",
      "source": [
        "#QUESTION 3:\n",
        "Define a class Person and its two child classes: Male and Female. All classes have a method &quot;getGender&quot; which can print &quot;Male&quot; for Male class and &quot;Female&quot; for Female class."
      ],
      "metadata": {
        "id": "tk7O90wJleR5"
      }
    },
    {
      "cell_type": "code",
      "source": [
        "class Person:\n",
        "    def getGender(self):\n",
        "        pass\n",
        "\n",
        "\n",
        "class Male(Person):\n",
        "    def getGender(self):\n",
        "        print(\"Male\")\n",
        "\n",
        "\n",
        "class Female(Person):\n",
        "    def getGender(self):\n",
        "        print(\"Female\")\n",
        "\n",
        "person = Person()\n",
        "person.getGender()\n",
        "\n",
        "male = Male()\n",
        "male.getGender()\n",
        "\n",
        "female = Female()\n",
        "female.getGender()"
      ],
      "metadata": {
        "colab": {
          "base_uri": "https://localhost:8080/"
        },
        "id": "bwBhTp93lbn6",
        "outputId": "d6c360e2-158d-4efe-b8d3-30bd722c4dca"
      },
      "execution_count": 3,
      "outputs": [
        {
          "output_type": "stream",
          "name": "stdout",
          "text": [
            "Male\n",
            "Female\n"
          ]
        }
      ]
    },
    {
      "cell_type": "markdown",
      "source": [
        "#QUESTION 4:\n",
        "Please write a program to generate all sentences where subject is in [\"I\",\"You\"] and verb is in [\"Play\",\"Love\"] and the object is in [\"Hockey\",\"Football\"]."
      ],
      "metadata": {
        "id": "K35rlw-3l3Qk"
      }
    },
    {
      "cell_type": "code",
      "source": [
        "subjects = [\"I\", \"You\"]\n",
        "verbs = [\"Play\", \"Love\"]\n",
        "objects = [\"Hockey\", \"Football\"]\n",
        "\n",
        "sentences = []\n",
        "\n",
        "for subject in subjects:\n",
        "    for verb in verbs:\n",
        "        for obj in objects:\n",
        "            sentence = f\"{subject} {verb} {obj}.\"\n",
        "            sentences.append(sentence)\n",
        "\n",
        "for sentence in sentences:\n",
        "    print(sentence)\n"
      ],
      "metadata": {
        "colab": {
          "base_uri": "https://localhost:8080/"
        },
        "id": "CCeVIkpKlys5",
        "outputId": "860ba197-d1fa-44a4-e63b-685ddff4459a"
      },
      "execution_count": 4,
      "outputs": [
        {
          "output_type": "stream",
          "name": "stdout",
          "text": [
            "I Play Hockey.\n",
            "I Play Football.\n",
            "I Love Hockey.\n",
            "I Love Football.\n",
            "You Play Hockey.\n",
            "You Play Football.\n",
            "You Love Hockey.\n",
            "You Love Football.\n"
          ]
        }
      ]
    },
    {
      "cell_type": "markdown",
      "source": [
        "#QUESTION 5:\n",
        "Please write a program to compress and decompress the string \"hello world!hello\n",
        "world!hello world!hello world!\""
      ],
      "metadata": {
        "id": "WS071k6JmXm9"
      }
    },
    {
      "cell_type": "code",
      "source": [
        "import gzip\n",
        "\n",
        "def compress_string(input_string):\n",
        "    compressed_data = gzip.compress(input_string.encode())\n",
        "    return compressed_data\n",
        "\n",
        "def decompress_string(input_data):\n",
        "    decompressed_string = gzip.decompress(input_data).decode()\n",
        "    return decompressed_string\n",
        "\n",
        "# Test the compression and decompression\n",
        "input_string = \"hello world!hello world!hello world!hello world!\"\n",
        "\n",
        "compressed_data = compress_string(input_string)\n",
        "print(\"Compressed data:\", compressed_data)\n",
        "\n",
        "decompressed_string = decompress_string(compressed_data)\n",
        "print(\"Decompressed string:\", decompressed_string)\n"
      ],
      "metadata": {
        "colab": {
          "base_uri": "https://localhost:8080/"
        },
        "id": "fpMwU5QamUrI",
        "outputId": "db451399-62d3-4b1c-8643-fc2f998e8490"
      },
      "execution_count": 5,
      "outputs": [
        {
          "output_type": "stream",
          "name": "stdout",
          "text": [
            "Compressed data: b'\\x1f\\x8b\\x08\\x00\\xa1\\xa6\\xaad\\x02\\xff\\xcbH\\xcd\\xc9\\xc9W(\\xcf/\\xcaIQ\\xcc \\x82\\r\\x00\\xd3\\xe6\\xcf\\xae0\\x00\\x00\\x00'\n",
            "Decompressed string: hello world!hello world!hello world!hello world!\n"
          ]
        }
      ]
    },
    {
      "cell_type": "markdown",
      "source": [
        "#QUESTION 6:\n",
        "Please write a binary search function which searches an item in a sorted list. The function should return the index of element to be searched in the list."
      ],
      "metadata": {
        "id": "9aYekebEmxIf"
      }
    },
    {
      "cell_type": "code",
      "source": [
        "def binary_search(arr, item):\n",
        "    low = 0\n",
        "    high = len(arr) - 1\n",
        "\n",
        "    while low <= high:\n",
        "        mid = (low + high) // 2\n",
        "        guess = arr[mid]\n",
        "\n",
        "        if guess == item:\n",
        "            return mid\n",
        "\n",
        "        if guess > item:\n",
        "            high = mid - 1\n",
        "        else:\n",
        "            low = mid + 1\n",
        "\n",
        "    return -1\n",
        "\n",
        "sorted_list = [1, 2, 3, 4, 5, 6, 7, 8, 9]\n",
        "item_to_search = 5\n",
        "\n",
        "result = binary_search(sorted_list, item_to_search)\n",
        "if result != -1:\n",
        "    print(f\"Item {item_to_search} found at index {result}\")\n",
        "else:\n",
        "    print(f\"Item {item_to_search} not found in the list\")\n"
      ],
      "metadata": {
        "colab": {
          "base_uri": "https://localhost:8080/"
        },
        "id": "I_I_y4_XmuQx",
        "outputId": "7d5a883c-5dd4-4b05-ee47-4c263ba66962"
      },
      "execution_count": 6,
      "outputs": [
        {
          "output_type": "stream",
          "name": "stdout",
          "text": [
            "Item 5 found at index 4\n"
          ]
        }
      ]
    }
  ]
}