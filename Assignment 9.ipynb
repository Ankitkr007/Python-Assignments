{
  "nbformat": 4,
  "nbformat_minor": 0,
  "metadata": {
    "colab": {
      "provenance": []
    },
    "kernelspec": {
      "name": "python3",
      "display_name": "Python 3"
    },
    "language_info": {
      "name": "python"
    }
  },
  "cells": [
    {
      "cell_type": "markdown",
      "source": [
        "#QUESTION 1:\n",
        "Write a Python program to check if the given number is a Disarium Number?"
      ],
      "metadata": {
        "id": "PhhksmZ_Z-Lm"
      }
    },
    {
      "cell_type": "code",
      "source": [
        "def is_disarium(number):\n",
        "    num_str = str(number)\n",
        "    length = len(num_str)\n",
        "    sum = 0\n",
        "\n",
        "    for i in range(length):\n",
        "        digit = int(num_str[i])\n",
        "        sum += digit ** (i + 1)\n",
        "\n",
        "    return sum == number\n",
        "\n",
        "# Test the function\n",
        "number = int(input(\"Enter a number: \"))\n",
        "\n",
        "if is_disarium(number):\n",
        "    print(f\"{number} is a Disarium number.\")\n",
        "else:\n",
        "    print(f\"{number} is not a Disarium number.\")\n"
      ],
      "metadata": {
        "colab": {
          "base_uri": "https://localhost:8080/"
        },
        "id": "3bUAOXHJaGJi",
        "outputId": "27e27749-8cee-445a-f238-38de18235d65"
      },
      "execution_count": 1,
      "outputs": [
        {
          "output_type": "stream",
          "name": "stdout",
          "text": [
            "Enter a number: 12\n",
            "12 is not a Disarium number.\n"
          ]
        }
      ]
    },
    {
      "cell_type": "markdown",
      "source": [
        "#QUESTION 2:\n",
        "Write a Python program to print all disarium numbers between 1 to 100?"
      ],
      "metadata": {
        "id": "qbbn40KNaY25"
      }
    },
    {
      "cell_type": "code",
      "source": [
        "def is_disarium(number):\n",
        "    num_str = str(number)\n",
        "    length = len(num_str)\n",
        "    sum = 0\n",
        "\n",
        "    for i in range(length):\n",
        "        digit = int(num_str[i])\n",
        "        sum += digit ** (i + 1)\n",
        "\n",
        "    return sum == number\n",
        "\n",
        "# Find and print Disarium numbers between 1 and 100\n",
        "print(\"Disarium numbers between 1 and 100:\")\n",
        "for num in range(1, 101):\n",
        "    if is_disarium(num):\n",
        "        print(num)\n"
      ],
      "metadata": {
        "colab": {
          "base_uri": "https://localhost:8080/"
        },
        "id": "vr8PxS3waUYC",
        "outputId": "699853e5-eb7d-462f-b82c-a8fda13d7637"
      },
      "execution_count": 2,
      "outputs": [
        {
          "output_type": "stream",
          "name": "stdout",
          "text": [
            "Disarium numbers between 1 and 100:\n",
            "1\n",
            "2\n",
            "3\n",
            "4\n",
            "5\n",
            "6\n",
            "7\n",
            "8\n",
            "9\n",
            "89\n"
          ]
        }
      ]
    },
    {
      "cell_type": "markdown",
      "source": [
        "#QUESTION 3\n",
        "Write a Python program to check if the given number is Happy Number?"
      ],
      "metadata": {
        "id": "5ogTV1ILaoHM"
      }
    },
    {
      "cell_type": "code",
      "source": [
        "def is_happy_number(number):\n",
        "    seen_numbers = set()\n",
        "\n",
        "    while True:\n",
        "        digits = [int(digit) for digit in str(number)]\n",
        "        square_sum = sum([digit ** 2 for digit in digits])\n",
        "\n",
        "        if square_sum == 1:\n",
        "            return True\n",
        "\n",
        "        if square_sum in seen_numbers:\n",
        "            return False\n",
        "\n",
        "        seen_numbers.add(square_sum)\n",
        "        number = square_sum\n",
        "\n",
        "# Test the function\n",
        "number = int(input(\"Enter a number: \"))\n",
        "\n",
        "if is_happy_number(number):\n",
        "    print(f\"{number} is a Happy number.\")\n",
        "else:\n",
        "    print(f\"{number} is not a Happy number.\")\n"
      ],
      "metadata": {
        "colab": {
          "base_uri": "https://localhost:8080/"
        },
        "id": "VZx3CbTnal_t",
        "outputId": "0925d3e0-c92a-4476-e21b-d9f0aa4b5dcd"
      },
      "execution_count": 3,
      "outputs": [
        {
          "output_type": "stream",
          "name": "stdout",
          "text": [
            "Enter a number: 3\n",
            "3 is not a Happy number.\n"
          ]
        }
      ]
    },
    {
      "cell_type": "markdown",
      "source": [
        "#QUESTION 4\n",
        "Write a Python program to print all happy numbers between 1 and 100?"
      ],
      "metadata": {
        "id": "LEck_lbJayWw"
      }
    },
    {
      "cell_type": "code",
      "source": [
        "def is_happy_number(number):\n",
        "    seen_numbers = set()\n",
        "\n",
        "    while True:\n",
        "        digits = [int(digit) for digit in str(number)]\n",
        "        square_sum = sum([digit ** 2 for digit in digits])\n",
        "\n",
        "        if square_sum == 1:\n",
        "            return True\n",
        "\n",
        "        if square_sum in seen_numbers:\n",
        "            return False\n",
        "\n",
        "        seen_numbers.add(square_sum)\n",
        "        number = square_sum\n",
        "\n",
        "# Find and print Happy numbers between 1 and 100\n",
        "print(\"Happy numbers between 1 and 100:\")\n",
        "for num in range(1, 101):\n",
        "    if is_happy_number(num):\n",
        "        print(num)\n"
      ],
      "metadata": {
        "colab": {
          "base_uri": "https://localhost:8080/"
        },
        "id": "JqJaJEWqav4K",
        "outputId": "55237ea6-f89d-488c-c271-4c25692d568b"
      },
      "execution_count": 4,
      "outputs": [
        {
          "output_type": "stream",
          "name": "stdout",
          "text": [
            "Happy numbers between 1 and 100:\n",
            "1\n",
            "7\n",
            "10\n",
            "13\n",
            "19\n",
            "23\n",
            "28\n",
            "31\n",
            "32\n",
            "44\n",
            "49\n",
            "68\n",
            "70\n",
            "79\n",
            "82\n",
            "86\n",
            "91\n",
            "94\n",
            "97\n",
            "100\n"
          ]
        }
      ]
    },
    {
      "cell_type": "markdown",
      "source": [
        "#QUESTION 5:\n",
        "Write a Python program to determine whether the given number is a Harshad Number?"
      ],
      "metadata": {
        "id": "flyKPC0Ha-RI"
      }
    },
    {
      "cell_type": "code",
      "source": [
        "def is_harshad_number(number):\n",
        "    sum_of_digits = sum(int(digit) for digit in str(number))\n",
        "    return number % sum_of_digits == 0\n",
        "\n",
        "# Test the function\n",
        "number = int(input(\"Enter a number: \"))\n",
        "\n",
        "if is_harshad_number(number):\n",
        "    print(f\"{number} is a Harshad number.\")\n",
        "else:\n",
        "    print(f\"{number} is not a Harshad number.\")\n"
      ],
      "metadata": {
        "colab": {
          "base_uri": "https://localhost:8080/"
        },
        "id": "vfMeaTKOa7zw",
        "outputId": "ea1adc93-2663-435b-cde0-6629a37ad993"
      },
      "execution_count": 5,
      "outputs": [
        {
          "output_type": "stream",
          "name": "stdout",
          "text": [
            "Enter a number: 44\n",
            "44 is not a Harshad number.\n"
          ]
        }
      ]
    },
    {
      "cell_type": "markdown",
      "source": [
        "#QUESTION 6:\n",
        "Write a Python program to print all pronic numbers between 1 and 100?"
      ],
      "metadata": {
        "id": "Q-dlSrdObK_s"
      }
    },
    {
      "cell_type": "code",
      "source": [
        "def is_pronic_number(number):\n",
        "    for i in range(number):\n",
        "        if i * (i + 1) == number:\n",
        "            return True\n",
        "    return False\n",
        "\n",
        "# Find and print pronic numbers between 1 and 100\n",
        "print(\"Pronic numbers between 1 and 100:\")\n",
        "for num in range(1, 101):\n",
        "    if is_pronic_number(num):\n",
        "        print(num)\n"
      ],
      "metadata": {
        "colab": {
          "base_uri": "https://localhost:8080/"
        },
        "id": "n1jhzO2-bH0M",
        "outputId": "0aceaffc-3c99-4a71-eb19-5f772cbfab8f"
      },
      "execution_count": 6,
      "outputs": [
        {
          "output_type": "stream",
          "name": "stdout",
          "text": [
            "Pronic numbers between 1 and 100:\n",
            "2\n",
            "6\n",
            "12\n",
            "20\n",
            "30\n",
            "42\n",
            "56\n",
            "72\n",
            "90\n"
          ]
        }
      ]
    },
    {
      "cell_type": "code",
      "source": [],
      "metadata": {
        "id": "2my8EkOQbTvH"
      },
      "execution_count": null,
      "outputs": []
    }
  ]
}