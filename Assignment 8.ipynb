{
  "nbformat": 4,
  "nbformat_minor": 0,
  "metadata": {
    "colab": {
      "provenance": []
    },
    "kernelspec": {
      "name": "python3",
      "display_name": "Python 3"
    },
    "language_info": {
      "name": "python"
    }
  },
  "cells": [
    {
      "cell_type": "markdown",
      "source": [
        "#QUESTION 1:\n",
        "Write a Python Program to Add Two Matrices?"
      ],
      "metadata": {
        "id": "DzfQQ3CSYaBS"
      }
    },
    {
      "cell_type": "code",
      "source": [
        "def add_matrices(matrix1, matrix2):\n",
        "    rows = len(matrix1)\n",
        "    columns = len(matrix1[0])\n",
        "\n",
        "    result = []\n",
        "    for i in range(rows):\n",
        "        row = []\n",
        "        for j in range(columns):\n",
        "            row.append(matrix1[i][j] + matrix2[i][j])\n",
        "        result.append(row)\n",
        "\n",
        "    return result\n",
        "\n",
        "# Test the function\n",
        "matrix1 = [[1, 2, 3],\n",
        "           [4, 5, 6],\n",
        "           [7, 8, 9]]\n",
        "\n",
        "matrix2 = [[9, 8, 7],\n",
        "           [6, 5, 4],\n",
        "           [3, 2, 1]]\n",
        "\n",
        "matrix_sum = add_matrices(matrix1, matrix2)\n",
        "print(\"Matrix 1:\")\n",
        "for row in matrix1:\n",
        "    print(row)\n",
        "print(\"\\nMatrix 2:\")\n",
        "for row in matrix2:\n",
        "    print(row)\n",
        "print(\"\\nSum of the matrices:\")\n",
        "for row in matrix_sum:\n",
        "    print(row)\n"
      ],
      "metadata": {
        "colab": {
          "base_uri": "https://localhost:8080/"
        },
        "id": "UV45z7SyYavQ",
        "outputId": "db795fe7-422f-4f89-877e-9fec13b165f2"
      },
      "execution_count": 2,
      "outputs": [
        {
          "output_type": "stream",
          "name": "stdout",
          "text": [
            "Matrix 1:\n",
            "[1, 2, 3]\n",
            "[4, 5, 6]\n",
            "[7, 8, 9]\n",
            "\n",
            "Matrix 2:\n",
            "[9, 8, 7]\n",
            "[6, 5, 4]\n",
            "[3, 2, 1]\n",
            "\n",
            "Sum of the matrices:\n",
            "[10, 10, 10]\n",
            "[10, 10, 10]\n",
            "[10, 10, 10]\n"
          ]
        }
      ]
    },
    {
      "cell_type": "markdown",
      "source": [
        "#QUESTION 2:\n",
        "Write a Python Program to Multiply Two Matrices?"
      ],
      "metadata": {
        "id": "g3r-W2x8YkjN"
      }
    },
    {
      "cell_type": "code",
      "source": [
        "def multiply_matrices(matrix1, matrix2):\n",
        "    rows1 = len(matrix1)\n",
        "    columns1 = len(matrix1[0])\n",
        "    rows2 = len(matrix2)\n",
        "    columns2 = len(matrix2[0])\n",
        "\n",
        "    if columns1 != rows2:\n",
        "        return \"Matrices cannot be multiplied.\"\n",
        "\n",
        "    result = []\n",
        "    for i in range(rows1):\n",
        "        row = []\n",
        "        for j in range(columns2):\n",
        "            element = 0\n",
        "            for k in range(columns1):\n",
        "                element += matrix1[i][k] * matrix2[k][j]\n",
        "            row.append(element)\n",
        "        result.append(row)\n",
        "\n",
        "    return result\n",
        "\n",
        "# Test the function\n",
        "matrix1 = [[1, 2, 3],\n",
        "           [4, 5, 6]]\n",
        "\n",
        "matrix2 = [[7, 8],\n",
        "           [9, 10],\n",
        "           [11, 12]]\n",
        "\n",
        "matrix_product = multiply_matrices(matrix1, matrix2)\n",
        "print(\"Matrix 1:\")\n",
        "for row in matrix1:\n",
        "    print(row)\n",
        "print(\"\\nMatrix 2:\")\n",
        "for row in matrix2:\n",
        "    print(row)\n",
        "print(\"\\nProduct of the matrices:\")\n",
        "for row in matrix_product:\n",
        "    print(row)\n"
      ],
      "metadata": {
        "colab": {
          "base_uri": "https://localhost:8080/"
        },
        "id": "MP-Yw_a6Ygus",
        "outputId": "4c341afa-b2ce-4cdc-d556-71792ed293f2"
      },
      "execution_count": 3,
      "outputs": [
        {
          "output_type": "stream",
          "name": "stdout",
          "text": [
            "Matrix 1:\n",
            "[1, 2, 3]\n",
            "[4, 5, 6]\n",
            "\n",
            "Matrix 2:\n",
            "[7, 8]\n",
            "[9, 10]\n",
            "[11, 12]\n",
            "\n",
            "Product of the matrices:\n",
            "[58, 64]\n",
            "[139, 154]\n"
          ]
        }
      ]
    },
    {
      "cell_type": "markdown",
      "source": [
        "#QUESTION 3:\n",
        "Write a Python Program to Transpose a Matrix?"
      ],
      "metadata": {
        "id": "I0WyYgK0Y22i"
      }
    },
    {
      "cell_type": "code",
      "source": [
        "def transpose_matrix(matrix):\n",
        "    rows = len(matrix)\n",
        "    columns = len(matrix[0])\n",
        "\n",
        "    transposed_matrix = []\n",
        "    for j in range(columns):\n",
        "        row = []\n",
        "        for i in range(rows):\n",
        "            row.append(matrix[i][j])\n",
        "        transposed_matrix.append(row)\n",
        "\n",
        "    return transposed_matrix\n",
        "\n",
        "# Test the function\n",
        "matrix = [[1, 2, 3],\n",
        "          [4, 5, 6],\n",
        "          [7, 8, 9]]\n",
        "\n",
        "transposed = transpose_matrix(matrix)\n",
        "print(\"Original Matrix:\")\n",
        "for row in matrix:\n",
        "    print(row)\n",
        "print(\"\\nTransposed Matrix:\")\n",
        "for row in transposed:\n",
        "    print(row)\n"
      ],
      "metadata": {
        "colab": {
          "base_uri": "https://localhost:8080/"
        },
        "id": "DaAXQXi3Y1Ef",
        "outputId": "b750050b-be8a-4096-bf06-1d0a062237c8"
      },
      "execution_count": 4,
      "outputs": [
        {
          "output_type": "stream",
          "name": "stdout",
          "text": [
            "Original Matrix:\n",
            "[1, 2, 3]\n",
            "[4, 5, 6]\n",
            "[7, 8, 9]\n",
            "\n",
            "Transposed Matrix:\n",
            "[1, 4, 7]\n",
            "[2, 5, 8]\n",
            "[3, 6, 9]\n"
          ]
        }
      ]
    },
    {
      "cell_type": "markdown",
      "source": [
        "#QUESTION 4:\n",
        "Write a Python Program to Sort Words in Alphabetic Order?"
      ],
      "metadata": {
        "id": "SA_zNdMIZDKP"
      }
    },
    {
      "cell_type": "code",
      "source": [
        "def sort_words(words):\n",
        "    sorted_words = sorted(words)\n",
        "    return sorted_words\n",
        "\n",
        "# Test the function\n",
        "sentence = input(\"Enter a sentence: \")\n",
        "words = sentence.split()\n",
        "\n",
        "sorted_words = sort_words(words)\n",
        "print(\"Words in alphabetical order:\")\n",
        "for word in sorted_words:\n",
        "    print(word)\n"
      ],
      "metadata": {
        "colab": {
          "base_uri": "https://localhost:8080/"
        },
        "id": "teZcnm5sZBQ1",
        "outputId": "9ca66243-732e-4d38-cb2e-e853ec7a16ce"
      },
      "execution_count": 5,
      "outputs": [
        {
          "output_type": "stream",
          "name": "stdout",
          "text": [
            "Enter a sentence: Hello This is a sentence\n",
            "Words in alphabetical order:\n",
            "Hello\n",
            "This\n",
            "a\n",
            "is\n",
            "sentence\n"
          ]
        }
      ]
    },
    {
      "cell_type": "markdown",
      "source": [
        "#QUESTION 5:\n",
        "Write a Python Program to Remove Punctuation From a String?"
      ],
      "metadata": {
        "id": "4q9G-QxhZQY6"
      }
    },
    {
      "cell_type": "code",
      "source": [
        "import string\n",
        "\n",
        "def remove_punctuation(text):\n",
        "    punctuation = string.punctuation\n",
        "    no_punct = \"\"\n",
        "    for char in text:\n",
        "        if char not in punctuation:\n",
        "            no_punct += char\n",
        "    return no_punct\n",
        "\n",
        "# Test the function\n",
        "sentence = input(\"Enter a sentence: \")\n",
        "\n",
        "clean_sentence = remove_punctuation(sentence)\n",
        "print(\"Sentence without punctuation:\", clean_sentence)\n"
      ],
      "metadata": {
        "colab": {
          "base_uri": "https://localhost:8080/"
        },
        "id": "802Jg8LfZLqM",
        "outputId": "9fceb6fc-f585-48c3-a241-f8ee49abada9"
      },
      "execution_count": 7,
      "outputs": [
        {
          "output_type": "stream",
          "name": "stdout",
          "text": [
            "Enter a sentence: Hello! How are you?\n",
            "Sentence without punctuation: Hello How are you\n"
          ]
        }
      ]
    }
  ]
}