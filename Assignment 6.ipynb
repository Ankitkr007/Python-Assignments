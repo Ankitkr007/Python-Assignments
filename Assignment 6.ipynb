{
  "nbformat": 4,
  "nbformat_minor": 0,
  "metadata": {
    "colab": {
      "provenance": []
    },
    "kernelspec": {
      "name": "python3",
      "display_name": "Python 3"
    },
    "language_info": {
      "name": "python"
    }
  },
  "cells": [
    {
      "cell_type": "markdown",
      "source": [
        "#QUESTION 1:\n",
        "Write a Python Program to Display Fibonacci Sequence Using Recursion?"
      ],
      "metadata": {
        "id": "YgCyJZ46TDd4"
      }
    },
    {
      "cell_type": "code",
      "source": [
        "def fibonacci(n):\n",
        "    if n <= 0:\n",
        "        return []\n",
        "    elif n == 1:\n",
        "        return [0]\n",
        "    elif n == 2:\n",
        "        return [0, 1]\n",
        "    else:\n",
        "        sequence = fibonacci(n - 1)\n",
        "        sequence.append(sequence[-1] + sequence[-2])\n",
        "        return sequence\n",
        "\n",
        "# Test the function\n",
        "n_terms = 10\n",
        "fib_sequence = fibonacci(n_terms)\n",
        "print(f\"Fibonacci Sequence of {n_terms} terms:\")\n",
        "print(fib_sequence)\n"
      ],
      "metadata": {
        "colab": {
          "base_uri": "https://localhost:8080/"
        },
        "id": "G8dt7g3xTJj0",
        "outputId": "c3b8db59-50a7-4174-97ad-ef5cee2852b7"
      },
      "execution_count": 1,
      "outputs": [
        {
          "output_type": "stream",
          "name": "stdout",
          "text": [
            "Fibonacci Sequence of 10 terms:\n",
            "[0, 1, 1, 2, 3, 5, 8, 13, 21, 34]\n"
          ]
        }
      ]
    },
    {
      "cell_type": "markdown",
      "source": [
        "#QUESTION 2:\n",
        "Write a Python Program to Find Factorial of Number Using Recursion?"
      ],
      "metadata": {
        "id": "O5Ra9d8ZUbuD"
      }
    },
    {
      "cell_type": "code",
      "source": [
        "def factorial(n):\n",
        "    if n == 0:\n",
        "        return 1\n",
        "    else:\n",
        "        return n * factorial(n - 1)\n",
        "\n",
        "# Testing the function\n",
        "number = 5\n",
        "factorial_result = factorial(number)\n",
        "print(f\"The factorial of {number} is: {factorial_result}\")\n"
      ],
      "metadata": {
        "colab": {
          "base_uri": "https://localhost:8080/"
        },
        "id": "8E6VR1hoUTyS",
        "outputId": "89ee9733-5068-4cc2-d3a1-65d3aca51854"
      },
      "execution_count": 2,
      "outputs": [
        {
          "output_type": "stream",
          "name": "stdout",
          "text": [
            "The factorial of 5 is: 120\n"
          ]
        }
      ]
    },
    {
      "cell_type": "markdown",
      "source": [
        "#QUESTION 3:\n",
        "Write a Python Program to calculate your Body Mass Index?"
      ],
      "metadata": {
        "id": "jXsqvBkFU6q9"
      }
    },
    {
      "cell_type": "code",
      "source": [
        "def calculate_bmi(weight, height):\n",
        "    bmi = weight / (height ** 2)\n",
        "    return bmi\n",
        "\n",
        "# Test the function\n",
        "weight = float(input(\"Enter your weight in kilograms: \"))\n",
        "height = float(input(\"Enter your height in meters: \"))\n",
        "\n",
        "bmi = calculate_bmi(weight, height)\n",
        "print(f\"Your Body Mass Index (BMI) is: {bmi:.2f}\")\n"
      ],
      "metadata": {
        "colab": {
          "base_uri": "https://localhost:8080/"
        },
        "id": "1ASGMiVPUqzR",
        "outputId": "a24d0fb1-5a5a-477e-955a-831c6baeb44c"
      },
      "execution_count": 3,
      "outputs": [
        {
          "output_type": "stream",
          "name": "stdout",
          "text": [
            "Enter your weight in kilograms: 53\n",
            "Enter your height in meters: 1.6\n",
            "Your Body Mass Index (BMI) is: {bmi:.2f}\n"
          ]
        }
      ]
    },
    {
      "cell_type": "markdown",
      "source": [
        "#QUESTION 4:\n",
        "Write a Python Program to calculate the natural logarithm of any number?"
      ],
      "metadata": {
        "id": "pQtkbpuKVYwe"
      }
    },
    {
      "cell_type": "code",
      "source": [
        "import math\n",
        "\n",
        "number = float(input(\"Enter a number: \"))\n",
        "natural_log = math.log(number)\n",
        "\n",
        "print(f\"The natural logarithm of {number} is: {natural_log}\")\n"
      ],
      "metadata": {
        "colab": {
          "base_uri": "https://localhost:8080/"
        },
        "id": "aPLGF5pmVHYV",
        "outputId": "291b6ac4-1b36-4e39-f226-9d241e15c7bf"
      },
      "execution_count": 4,
      "outputs": [
        {
          "output_type": "stream",
          "name": "stdout",
          "text": [
            "Enter a number: 5\n",
            "The natural logarithm of 5.0 is: 1.6094379124341003\n"
          ]
        }
      ]
    },
    {
      "cell_type": "markdown",
      "source": [
        "#QUESTION 5:\n",
        "Write a Python Program for cube sum of first n natural numbers?"
      ],
      "metadata": {
        "id": "a9aTUFEiVwXf"
      }
    },
    {
      "cell_type": "code",
      "source": [
        "def cube_sum(n):\n",
        "    sum = 0\n",
        "    for i in range(1, n + 1):\n",
        "        sum += i ** 3\n",
        "    return sum\n",
        "\n",
        "# Test the function\n",
        "n = int(input(\"Enter the value of n: \"))\n",
        "\n",
        "result = cube_sum(n)\n",
        "print(f\"The cube sum of the first {n} natural numbers is: {result}\")\n"
      ],
      "metadata": {
        "colab": {
          "base_uri": "https://localhost:8080/"
        },
        "id": "2B6VX0PZVtWF",
        "outputId": "d4f946df-b8fc-4e6b-cf60-907be3fde44b"
      },
      "execution_count": 5,
      "outputs": [
        {
          "output_type": "stream",
          "name": "stdout",
          "text": [
            "Enter the value of n: 5\n",
            "The cube sum of the first 5 natural numbers is: 225\n"
          ]
        }
      ]
    },
    {
      "cell_type": "code",
      "source": [],
      "metadata": {
        "id": "pNFaXyoCV8wn"
      },
      "execution_count": null,
      "outputs": []
    }
  ]
}