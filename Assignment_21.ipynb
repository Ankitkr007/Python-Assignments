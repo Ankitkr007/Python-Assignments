{
  "nbformat": 4,
  "nbformat_minor": 0,
  "metadata": {
    "colab": {
      "provenance": []
    },
    "kernelspec": {
      "name": "python3",
      "display_name": "Python 3"
    },
    "language_info": {
      "name": "python"
    }
  },
  "cells": [
    {
      "cell_type": "markdown",
      "source": [
        "#QUESTION 1:\n",
        "from datetime import date\n",
        "\n"
      ],
      "metadata": {
        "id": "qglPhMvQtixW"
      }
    },
    {
      "cell_type": "code",
      "source": [
        "from datetime import date\n",
        "\n",
        "# Get the current date\n",
        "current_date = date.today()\n",
        "\n",
        "# Convert the date to a string format\n",
        "date_string = current_date.strftime(\"%Y-%m-%d\")\n",
        "\n",
        "# Write the date string to the file\n",
        "with open('today.txt', 'w') as file:\n",
        "    file.write(date_string)\n"
      ],
      "metadata": {
        "id": "YJ__mFj5toRe"
      },
      "execution_count": 2,
      "outputs": []
    },
    {
      "cell_type": "markdown",
      "source": [
        "#QUESTION 2:\n",
        "Read the text file today.txt into the string today_string"
      ],
      "metadata": {
        "id": "hV_NI2HRuN1b"
      }
    },
    {
      "cell_type": "code",
      "source": [
        "with open('today.txt', 'r') as file:\n",
        "    today_string = file.read()\n",
        "\n",
        "print(today_string)\n"
      ],
      "metadata": {
        "colab": {
          "base_uri": "https://localhost:8080/"
        },
        "id": "C_5uU5m9uLn-",
        "outputId": "1e4b6032-6f24-431e-dfa9-36bc61ed032b"
      },
      "execution_count": 4,
      "outputs": [
        {
          "output_type": "stream",
          "name": "stdout",
          "text": [
            "2023-07-10\n"
          ]
        }
      ]
    },
    {
      "cell_type": "markdown",
      "source": [
        "#QUESTION 3:\n",
        "Parse the date from today_string."
      ],
      "metadata": {
        "id": "vfEoWLne2SZ6"
      }
    },
    {
      "cell_type": "code",
      "source": [
        "from datetime import datetime\n",
        "\n",
        "# Parse the date from the string\n",
        "parsed_date = datetime.strptime(today_string.strip(), \"%Y-%m-%d\")\n",
        "\n",
        "# Print the parsed date\n",
        "print(parsed_date)\n"
      ],
      "metadata": {
        "colab": {
          "base_uri": "https://localhost:8080/"
        },
        "id": "OsUC5pFd2Omb",
        "outputId": "dc441ad8-2f76-4df7-d489-ac318f213499"
      },
      "execution_count": 5,
      "outputs": [
        {
          "output_type": "stream",
          "name": "stdout",
          "text": [
            "2023-07-10 00:00:00\n"
          ]
        }
      ]
    },
    {
      "cell_type": "markdown",
      "source": [
        "#QUESTION 4:\n",
        "List the files in your current directory"
      ],
      "metadata": {
        "id": "MgKuBTEs2X5b"
      }
    },
    {
      "cell_type": "code",
      "source": [
        "import os\n",
        "\n",
        "# Get the current directory\n",
        "current_dir = os.getcwd()\n",
        "\n",
        "# List the files in the current directory\n",
        "files = os.listdir(current_dir)\n",
        "\n",
        "# Print the file names\n",
        "for file in files:\n",
        "    print(file)\n"
      ],
      "metadata": {
        "colab": {
          "base_uri": "https://localhost:8080/"
        },
        "id": "s8R24N_N2WtG",
        "outputId": "0065bd1a-9077-429e-d1b7-915f2606e8b8"
      },
      "execution_count": 6,
      "outputs": [
        {
          "output_type": "stream",
          "name": "stdout",
          "text": [
            ".config\n",
            "today.txt\n",
            "sample_data\n"
          ]
        }
      ]
    },
    {
      "cell_type": "markdown",
      "source": [
        "#QUESTION 5:\n",
        "Create a list of all of the files in your parent directory (minimum five files should be available)."
      ],
      "metadata": {
        "id": "LUBbTtvF2i8Y"
      }
    },
    {
      "cell_type": "code",
      "source": [
        "import os\n",
        "\n",
        "# Get the parent directory\n",
        "parent_dir = os.path.abspath(os.path.join(os.getcwd(), os.pardir))\n",
        "\n",
        "# List the files in the parent directory\n",
        "files = os.listdir(parent_dir)\n",
        "\n",
        "# Print the file names\n",
        "for file in files:\n",
        "    print(file)\n"
      ],
      "metadata": {
        "colab": {
          "base_uri": "https://localhost:8080/"
        },
        "id": "E-67Ti4Y2fdD",
        "outputId": "2ad5de72-0797-485d-9eb4-ae45b578e1cf"
      },
      "execution_count": 7,
      "outputs": [
        {
          "output_type": "stream",
          "name": "stdout",
          "text": [
            "var\n",
            "opt\n",
            "usr\n",
            "libx32\n",
            "tmp\n",
            "sbin\n",
            "media\n",
            "lib64\n",
            "mnt\n",
            "sys\n",
            "root\n",
            "home\n",
            "bin\n",
            "lib\n",
            "etc\n",
            "boot\n",
            "srv\n",
            "proc\n",
            "run\n",
            "dev\n",
            "lib32\n",
            "content\n",
            ".dockerenv\n",
            "tools\n",
            "datalab\n",
            "python-apt\n",
            "NGC-DL-CONTAINER-LICENSE\n"
          ]
        }
      ]
    },
    {
      "cell_type": "markdown",
      "source": [
        "#QUESTION 6:\n",
        "Use multiprocessing to create three separate processes. Make each one wait a random number of seconds between one and five, print the current time, and then exit."
      ],
      "metadata": {
        "id": "X2ldgXN72suh"
      }
    },
    {
      "cell_type": "code",
      "source": [
        "import multiprocessing\n",
        "import random\n",
        "import time\n",
        "from datetime import datetime\n",
        "\n",
        "def print_time():\n",
        "    # Generate a random sleep duration between 1 and 5 seconds\n",
        "    sleep_duration = random.randint(1, 5)\n",
        "\n",
        "    # Wait for the random sleep duration\n",
        "    time.sleep(sleep_duration)\n",
        "\n",
        "    # Get the current time\n",
        "    current_time = datetime.now().strftime(\"%H:%M:%S\")\n",
        "\n",
        "    # Print the current time\n",
        "    print(f\"Current time: {current_time}\")\n",
        "\n",
        "if __name__ == '__main__':\n",
        "    # Create three separate processes\n",
        "    processes = [multiprocessing.Process(target=print_time) for _ in range(3)]\n",
        "\n",
        "    # Start the processes\n",
        "    for process in processes:\n",
        "        process.start()\n",
        "\n",
        "    # Wait for all processes to finish\n",
        "    for process in processes:\n",
        "        process.join()\n"
      ],
      "metadata": {
        "colab": {
          "base_uri": "https://localhost:8080/"
        },
        "id": "4D6meUdc2onB",
        "outputId": "91092f44-78c7-454f-8a92-3ea3590293b6"
      },
      "execution_count": 8,
      "outputs": [
        {
          "output_type": "stream",
          "name": "stdout",
          "text": [
            "Current time: 12:51:18\n",
            "Current time: 12:51:18\n",
            "Current time: 12:51:22\n"
          ]
        }
      ]
    },
    {
      "cell_type": "markdown",
      "source": [
        "#QUESTION 7:\n",
        "Create a date object of your day of birth."
      ],
      "metadata": {
        "id": "HhsgsaSl2zjI"
      }
    },
    {
      "cell_type": "code",
      "source": [
        "from datetime import datetime\n",
        "\n",
        "date_string = '03.12.1997'\n",
        "date_format = '%d.%m.%Y'\n",
        "\n",
        "date_object = datetime.strptime(date_string, date_format).date()\n",
        "\n",
        "print(date_object)\n"
      ],
      "metadata": {
        "colab": {
          "base_uri": "https://localhost:8080/"
        },
        "id": "gNE3tLi92yvb",
        "outputId": "fdaba0bb-16e2-4065-b69e-bf374f9c4594"
      },
      "execution_count": 9,
      "outputs": [
        {
          "output_type": "stream",
          "name": "stdout",
          "text": [
            "1997-12-03\n"
          ]
        }
      ]
    },
    {
      "cell_type": "markdown",
      "source": [
        "#QUESTION 8:\n",
        "What day of the week was your day of birth?"
      ],
      "metadata": {
        "id": "WS3HazHy3BRt"
      }
    },
    {
      "cell_type": "markdown",
      "source": [
        "Wednesday."
      ],
      "metadata": {
        "id": "X1wrTf223Hsn"
      }
    },
    {
      "cell_type": "markdown",
      "source": [
        "#QUESTION 9:\n",
        "When will you be (or when were you) 10,000 days old?"
      ],
      "metadata": {
        "id": "tMR7aEcV3KKA"
      }
    },
    {
      "cell_type": "code",
      "source": [
        "from datetime import datetime, timedelta\n",
        "\n",
        "reference_date = datetime(1997, 12, 3)\n",
        "days_to_add = timedelta(days=10000)\n",
        "\n",
        "result_date = reference_date + days_to_add\n",
        "\n",
        "print(result_date)\n"
      ],
      "metadata": {
        "colab": {
          "base_uri": "https://localhost:8080/"
        },
        "id": "FXEeyfPw3Agj",
        "outputId": "c77f7040-e71d-4360-8910-a9fa6d73a411"
      },
      "execution_count": 10,
      "outputs": [
        {
          "output_type": "stream",
          "name": "stdout",
          "text": [
            "2025-04-20 00:00:00\n"
          ]
        }
      ]
    },
    {
      "cell_type": "code",
      "source": [],
      "metadata": {
        "id": "xiQdxKlI3aon"
      },
      "execution_count": null,
      "outputs": []
    }
  ]
}