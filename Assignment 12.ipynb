{
  "nbformat": 4,
  "nbformat_minor": 0,
  "metadata": {
    "colab": {
      "provenance": []
    },
    "kernelspec": {
      "name": "python3",
      "display_name": "Python 3"
    },
    "language_info": {
      "name": "python"
    }
  },
  "cells": [
    {
      "cell_type": "markdown",
      "source": [
        "#QUESTION 1:\n",
        "Write a Python program to Extract Unique values dictionary values?"
      ],
      "metadata": {
        "id": "06ZL7xIagzr5"
      }
    },
    {
      "cell_type": "code",
      "source": [
        "def extract_unique_values(dictionary):\n",
        "    unique_values = set(dictionary.values())\n",
        "    return list(unique_values)\n",
        "\n",
        "# Test the function\n",
        "my_dict = {'a': 1, 'b': 2, 'c': 1, 'd': 3, 'e': 2}\n",
        "\n",
        "unique_values = extract_unique_values(my_dict)\n",
        "print(\"Unique values:\", unique_values)\n"
      ],
      "metadata": {
        "colab": {
          "base_uri": "https://localhost:8080/"
        },
        "id": "FKPoZ7pWg-B_",
        "outputId": "e50f42ff-2789-420b-c78e-17da2116e6cf"
      },
      "execution_count": 1,
      "outputs": [
        {
          "output_type": "stream",
          "name": "stdout",
          "text": [
            "Unique values: [1, 2, 3]\n"
          ]
        }
      ]
    },
    {
      "cell_type": "markdown",
      "source": [
        "#QUESTION 2:\n",
        "Write a Python program to find the sum of all items in a dictionary?"
      ],
      "metadata": {
        "id": "hTBQybouhLqQ"
      }
    },
    {
      "cell_type": "code",
      "source": [
        "def sum_all_items(dictionary):\n",
        "    total = sum(dictionary.values())\n",
        "    return total\n",
        "\n",
        "# Test the function\n",
        "my_dict = {'a': 1, 'b': 2, 'c': 3, 'd': 4, 'e': 5}\n",
        "\n",
        "sum_of_items = sum_all_items(my_dict)\n",
        "print(\"Sum of all items:\", sum_of_items)"
      ],
      "metadata": {
        "colab": {
          "base_uri": "https://localhost:8080/"
        },
        "id": "wLa8phaphG88",
        "outputId": "12247ac6-f6a3-4e50-86ac-c7ecaf98e595"
      },
      "execution_count": 2,
      "outputs": [
        {
          "output_type": "stream",
          "name": "stdout",
          "text": [
            "Sum of all items: 15\n"
          ]
        }
      ]
    },
    {
      "cell_type": "markdown",
      "source": [
        "#QUESTION 3:\n",
        "Write a Python program to Merging two Dictionaries?"
      ],
      "metadata": {
        "id": "87LY-1JshUar"
      }
    },
    {
      "cell_type": "code",
      "source": [
        "def merge_dictionaries(dict1, dict2):\n",
        "    merged_dict = {**dict1, **dict2}\n",
        "    return merged_dict\n",
        "\n",
        "# Test the function\n",
        "dict1 = {'a': 1, 'b': 2}\n",
        "dict2 = {'c': 3, 'd': 4}\n",
        "\n",
        "merged_dict = merge_dictionaries(dict1, dict2)\n",
        "print(\"Merged dictionary:\", merged_dict)\n"
      ],
      "metadata": {
        "colab": {
          "base_uri": "https://localhost:8080/"
        },
        "id": "YwArFmh6hTGd",
        "outputId": "2adbe619-dd96-4aac-d88f-0d3eae17784b"
      },
      "execution_count": 3,
      "outputs": [
        {
          "output_type": "stream",
          "name": "stdout",
          "text": [
            "Merged dictionary: {'a': 1, 'b': 2, 'c': 3, 'd': 4}\n"
          ]
        }
      ]
    },
    {
      "cell_type": "markdown",
      "source": [
        "#QUESTION 4:\n",
        "Write a Python program to convert key-values list to flat dictionary?"
      ],
      "metadata": {
        "id": "8TmY-sEkhjXL"
      }
    },
    {
      "cell_type": "code",
      "source": [
        "def convert_to_flat_dictionary(key_value_list):\n",
        "    flat_dict = {}\n",
        "    for key, value in key_value_list:\n",
        "        flat_dict[key] = value\n",
        "    return flat_dict\n",
        "\n",
        "# Test the function\n",
        "key_value_list = [('a', 1), ('b', 2), ('c', 3)]\n",
        "\n",
        "flat_dictionary = convert_to_flat_dictionary(key_value_list)\n",
        "print(\"Flat dictionary:\", flat_dictionary)\n"
      ],
      "metadata": {
        "colab": {
          "base_uri": "https://localhost:8080/"
        },
        "id": "66VGuZ4shiI_",
        "outputId": "40367e97-1b9b-4907-861e-f395528c5c92"
      },
      "execution_count": 4,
      "outputs": [
        {
          "output_type": "stream",
          "name": "stdout",
          "text": [
            "Flat dictionary: {'a': 1, 'b': 2, 'c': 3}\n"
          ]
        }
      ]
    },
    {
      "cell_type": "markdown",
      "source": [
        "#QUESTION 5:\n",
        "Write a Python program to insertion at the beginning in OrderedDict?"
      ],
      "metadata": {
        "id": "P1unSaERhxxS"
      }
    },
    {
      "cell_type": "code",
      "source": [
        "from collections import OrderedDict\n",
        "\n",
        "def insert_at_beginning(od, key, value):\n",
        "    od[key] = value\n",
        "    od.move_to_end(key, last=False)\n",
        "\n",
        "# Test the function\n",
        "ordered_dict = OrderedDict([('a', 1), ('b', 2), ('c', 3)])\n",
        "\n",
        "print(\"Original OrderedDict:\", ordered_dict)\n",
        "\n",
        "insert_at_beginning(ordered_dict, 'x', 10)\n",
        "print(\"OrderedDict after insertion:\", ordered_dict)"
      ],
      "metadata": {
        "colab": {
          "base_uri": "https://localhost:8080/"
        },
        "id": "x_lNn3T9hsh0",
        "outputId": "f1c893f0-7e77-4378-fb2d-2427e74e4b8c"
      },
      "execution_count": 5,
      "outputs": [
        {
          "output_type": "stream",
          "name": "stdout",
          "text": [
            "Original OrderedDict: OrderedDict([('a', 1), ('b', 2), ('c', 3)])\n",
            "OrderedDict after insertion: OrderedDict([('x', 10), ('a', 1), ('b', 2), ('c', 3)])\n"
          ]
        }
      ]
    },
    {
      "cell_type": "markdown",
      "source": [
        "#QUESTION 6:\n",
        "Write a Python program to check order of character in string using OrderedDic()?"
      ],
      "metadata": {
        "id": "rdmOMRIMh5Fm"
      }
    },
    {
      "cell_type": "code",
      "source": [
        "from collections import OrderedDict\n",
        "\n",
        "def check_order_of_characters(string, pattern):\n",
        "    ordered_dict = OrderedDict.fromkeys(string)\n",
        "    pattern_length = 0\n",
        "\n",
        "    for key in ordered_dict:\n",
        "        if key == pattern[pattern_length]:\n",
        "            pattern_length += 1\n",
        "\n",
        "        if pattern_length == len(pattern):\n",
        "            return True\n",
        "\n",
        "    return False\n",
        "\n",
        "# Test the function\n",
        "input_string = \"Hello, World!\"\n",
        "input_pattern = \"llo\"\n",
        "\n",
        "order_check = check_order_of_characters(input_string, input_pattern)\n",
        "if order_check:\n",
        "    print(\"The order of characters in the string matches the pattern.\")\n",
        "else:\n",
        "    print(\"The order of characters in the string does not match the pattern.\")\n"
      ],
      "metadata": {
        "colab": {
          "base_uri": "https://localhost:8080/"
        },
        "id": "omqut3_Fh2ct",
        "outputId": "a9302233-92d7-4f5b-f4b8-c7603dd1e620"
      },
      "execution_count": 6,
      "outputs": [
        {
          "output_type": "stream",
          "name": "stdout",
          "text": [
            "The order of characters in the string does not match the pattern.\n"
          ]
        }
      ]
    },
    {
      "cell_type": "markdown",
      "source": [
        "#QUESTION 7:\n",
        "Write a Python program to sort Python Dictionaries by Key or Value?"
      ],
      "metadata": {
        "id": "CqzX7sVriGo8"
      }
    },
    {
      "cell_type": "code",
      "source": [
        "def sort_dictionary(dictionary, by_key=True):\n",
        "    sorted_dict = {}\n",
        "\n",
        "    if by_key:\n",
        "        sorted_keys = sorted(dictionary.keys())\n",
        "        for key in sorted_keys:\n",
        "            sorted_dict[key] = dictionary[key]\n",
        "    else:\n",
        "        sorted_items = sorted(dictionary.items(), key=lambda x: x[1])\n",
        "        for item in sorted_items:\n",
        "            sorted_dict[item[0]] = item[1]\n",
        "\n",
        "    return sorted_dict\n",
        "\n",
        "my_dict = {'b': 2, 'a': 1, 'd': 4, 'c': 3}\n",
        "\n",
        "sorted_by_key = sort_dictionary(my_dict, by_key=True)\n",
        "print(\"Dictionary sorted by key:\", sorted_by_key)\n",
        "\n",
        "sorted_by_value = sort_dictionary(my_dict, by_key=False)\n",
        "print(\"Dictionary sorted by value:\", sorted_by_value)\n"
      ],
      "metadata": {
        "colab": {
          "base_uri": "https://localhost:8080/"
        },
        "id": "LqC6CDQviEXq",
        "outputId": "77eaf920-e03b-47ab-ab11-a9e4deddaccb"
      },
      "execution_count": 7,
      "outputs": [
        {
          "output_type": "stream",
          "name": "stdout",
          "text": [
            "Dictionary sorted by key: {'a': 1, 'b': 2, 'c': 3, 'd': 4}\n",
            "Dictionary sorted by value: {'a': 1, 'b': 2, 'c': 3, 'd': 4}\n"
          ]
        }
      ]
    },
    {
      "cell_type": "code",
      "source": [],
      "metadata": {
        "id": "cHWjtUsqiRhy"
      },
      "execution_count": null,
      "outputs": []
    }
  ]
}