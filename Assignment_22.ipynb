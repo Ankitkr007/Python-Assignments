{
  "nbformat": 4,
  "nbformat_minor": 0,
  "metadata": {
    "colab": {
      "provenance": []
    },
    "kernelspec": {
      "name": "python3",
      "display_name": "Python 3"
    },
    "language_info": {
      "name": "python"
    }
  },
  "cells": [
    {
      "cell_type": "markdown",
      "source": [
        "#QUESTION 1:\n",
        "What is the result of the code, and explain?\n",
        "\n",
        ">>> X = 'iNeuron'\n",
        ">>> def func():\n",
        "print(X)\n",
        "\n",
        ">>> func()"
      ],
      "metadata": {
        "id": "LRBuwQje3_mu"
      }
    },
    {
      "cell_type": "markdown",
      "source": [
        "Ans:\n",
        "The code will raise an error because the print(X) statement is not properly indented within the func() function. In Python, indentation is crucial to define the scope of code blocks.\n",
        "\n",
        "To fix the issue, the print(X) statement should be indented properly within the func() function. Here's the corrected code:"
      ],
      "metadata": {
        "id": "5gEbKm8S4KyE"
      }
    },
    {
      "cell_type": "code",
      "source": [
        "X = 'iNeuron'\n",
        "def func():\n",
        "    print(X)\n",
        "\n",
        "func()\n"
      ],
      "metadata": {
        "colab": {
          "base_uri": "https://localhost:8080/"
        },
        "id": "T22-F6v64GGD",
        "outputId": "e7b24b26-7635-4e91-de94-7da7717e7d23"
      },
      "execution_count": null,
      "outputs": [
        {
          "output_type": "stream",
          "name": "stdout",
          "text": [
            "iNeuron\n"
          ]
        }
      ]
    },
    {
      "cell_type": "markdown",
      "source": [
        "#QUESTION 2:\n",
        "What is the result of the code, and explain?\n",
        "\n",
        ">>> X = &#39;iNeuron&#39;\n",
        ">>> def func():\n",
        "X = 'NI!'\n",
        "\n",
        ">>> func()\n",
        ">>> print(X)"
      ],
      "metadata": {
        "id": "_WK_KOVU4a_S"
      }
    },
    {
      "cell_type": "markdown",
      "source": [
        "Ans:\n",
        "The result of the code will be 'iNeuron'.\n",
        "\n",
        "Explanation:\n",
        "\n",
        "In the code, the variable X is initially assigned the value 'iNeuron'.\n",
        "Then, a function named func() is defined.\n",
        "Inside the func() function, there is a local assignment X = 'NI!'. This assignment creates a new local variable X within the function's scope, shadowing the global variable X.\n",
        "When the func() function is called, it does not have any output or effect, as it only assigns a value to the local variable X within its scope.\n",
        "After calling the function, when print(X) is executed outside the function's scope, it refers to the global variable X which retains its original value 'iNeuron'. Hence, it prints 'iNeuron'.\n",
        "In summary, the assignment X = 'NI!' inside the func() function does not affect the value of the global variable X, and it remains 'iNeuron' when printed outside the function."
      ],
      "metadata": {
        "id": "R8nERhKm5Ql7"
      }
    },
    {
      "cell_type": "markdown",
      "source": [
        "#QUESTION 3:\n",
        "What does this code print, and why?\n",
        "\n",
        ">>> X = 'iNeuron'\n",
        ">>>def func():\n",
        "X ='NI'\n",
        "print(X)\n",
        "\n",
        ">>> func()\n",
        ">>> print(X)"
      ],
      "metadata": {
        "id": "So-XMSBW5U94"
      }
    },
    {
      "cell_type": "markdown",
      "source": [
        "Ans:\n",
        "The code will print:\n",
        "\n",
        "NI\n",
        "iNeuron\n",
        "Explanation:\n",
        "\n",
        "The variable X is initially assigned the value 'iNeuron'.\n",
        "The function func() is defined.\n",
        "Inside the func() function, a local variable X is assigned the value 'NI'.\n",
        "When the function func() is called, it prints the value of the local variable X, which is 'NI'.\n",
        "After calling the function, when print(X) is executed outside the function, it refers to the global variable X, which retains its original value 'iNeuron'. Hence, it prints 'iNeuron'.\n",
        "In summary, the local variable X inside the func() function and the global variable X are separate entities. Modifying the local variable X inside the function does not affect the global variable X."
      ],
      "metadata": {
        "id": "AsE4n___5oqB"
      }
    },
    {
      "cell_type": "markdown",
      "source": [
        "#QUESTION 4:\n",
        "What output does this code produce? Why?\n",
        "\n",
        ">>> X = 'iNeuron'\n",
        ">>> def func():\n",
        "global X\n",
        "X = 'NI'\n",
        "\n",
        ">>> func()\n",
        ">>> print(X)"
      ],
      "metadata": {
        "id": "FFanr5dA5vRn"
      }
    },
    {
      "cell_type": "markdown",
      "source": [
        "The output of the code will be:\n",
        "\n",
        "NI\n",
        "Explanation:\n",
        "\n",
        "The variable X is initially assigned the value 'iNeuron'.\n",
        "The function func() is defined.\n",
        "Inside the func() function, the global keyword is used to indicate that the variable X is a global variable.\n",
        "The value of the global variable X is then changed to 'NI' within the function.\n",
        "When the function func() is called, it modifies the global variable X to 'NI'.\n",
        "After calling the function, when print(X) is executed, it prints the updated value of the global variable X, which is 'NI'.\n",
        "In summary, by using the global keyword inside the function, the code is able to modify the global variable X instead of creating a new local variable."
      ],
      "metadata": {
        "id": "SWNCkaJm5-_u"
      }
    },
    {
      "cell_type": "markdown",
      "source": [
        "#QUESTION 5:\n",
        "What about this code—what’s the output, and why?\n",
        "\n",
        ">>> X = 'iNeuron'\n",
        ">>> def func():\n",
        "X = 'NI'\n",
        "def nested():\n",
        "print(X)\n",
        "nested()\n",
        "\n",
        ">>>func()\n",
        ">>> X"
      ],
      "metadata": {
        "id": "E2OpCjX86Lj_"
      }
    },
    {
      "cell_type": "markdown",
      "source": [
        "Ans:\n",
        "The output of the code will be:\n",
        "\n",
        "NI\n",
        "'iNeuron'\n",
        "Explanation:\n",
        "\n",
        "The variable X is initially assigned the value 'iNeuron'.\n",
        "The function func() is defined.\n",
        "Inside the func() function, a new local variable X is assigned the value 'NI'.\n",
        "The function nested() is defined within func().\n",
        "Inside the nested() function, the value of X is printed, which is the local variable X from the enclosing func() function. In this case, the output is 'NI'.\n",
        "When the function func() is called, it calls the nested function nested(), which prints the value of X.\n",
        "After calling the function, when X is printed, it refers to the global variable X, which is 'iNeuron'.\n",
        "In summary, the code demonstrates the concept of nested functions and variable scope. The nested function nested() has access to the local variable X defined in the enclosing func() function, but it does not affect the global variable X."
      ],
      "metadata": {
        "id": "DAxtjeB66jwM"
      }
    },
    {
      "cell_type": "markdown",
      "source": [
        "#QUESTION 6:\n",
        "How about this code: what is its output in Python 3, and explain?\n",
        "\n",
        ">>> def func():\n",
        "X = 'NI'\n",
        "def nested():\n",
        "nonlocal X\n",
        "X = 'Spam'\n",
        "nested()\n",
        "print(X)\n",
        "\n",
        ">>> func()"
      ],
      "metadata": {
        "id": "4XAsNNya6yLk"
      }
    },
    {
      "cell_type": "markdown",
      "source": [
        "The code will raise a SyntaxError in Python 3, specifically the line nonlocal X.\n",
        "\n",
        "Explanation:\n",
        "\n",
        "In Python, the nonlocal keyword is used to indicate that a variable is a nonlocal variable, which means it is a variable in the nearest enclosing scope that is not global.\n",
        "However, in the given code, there is no enclosing scope that is not global. The variable X is defined within the func() function, and there is no further enclosing scope.\n",
        "Therefore, the usage of nonlocal X is not valid, and it results in a SyntaxError.\n",
        "In order to use nonlocal, there must be an additional level of nesting, such as a nested function within func(), where the X variable is defined."
      ],
      "metadata": {
        "id": "NXQNMVsP7Dcu"
      }
    }
  ]
}