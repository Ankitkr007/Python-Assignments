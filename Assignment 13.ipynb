{
  "nbformat": 4,
  "nbformat_minor": 0,
  "metadata": {
    "colab": {
      "provenance": []
    },
    "kernelspec": {
      "name": "python3",
      "display_name": "Python 3"
    },
    "language_info": {
      "name": "python"
    }
  },
  "cells": [
    {
      "cell_type": "markdown",
      "source": [
        "#QUESTION 1:\n",
        "Write a program that calculates and prints the value according to the given formula:\n",
        "Q = Square root of [(2 * C * D)/H]\n",
        "Following are the fixed values of C and H:\n",
        "C is 50. H is 30.\n",
        "D is the variable whose values should be input to your program in a comma-separated\n",
        "sequence.\n",
        "Example\n",
        "Let us assume the following comma separated input sequence is given to the program:\n",
        "100,150,180\n",
        "The output of the program should be:\n",
        "18,22,24"
      ],
      "metadata": {
        "id": "qQ7KEx9yil0H"
      }
    },
    {
      "cell_type": "code",
      "source": [
        "import math\n",
        "\n",
        "def calculate_values(input_sequence):\n",
        "    C = 50\n",
        "    H = 30\n",
        "    output_values = []\n",
        "\n",
        "    # Split the input sequence into a list of values\n",
        "    values = input_sequence.split(',')\n",
        "\n",
        "    for value in values:\n",
        "        D = int(value)\n",
        "        Q = math.sqrt((2 * C * D) / H)\n",
        "        output_values.append(round(Q))\n",
        "\n",
        "    return output_values\n",
        "\n",
        "input_sequence = \"100,150,180\"\n",
        "output_values = calculate_values(input_sequence)\n",
        "print(\"Output values:\", \",\".join(str(val) for val in output_values))\n"
      ],
      "metadata": {
        "colab": {
          "base_uri": "https://localhost:8080/"
        },
        "id": "ChQOKPP7iqjM",
        "outputId": "a468e3ef-a646-4db2-a116-ae9a1a27492f"
      },
      "execution_count": 1,
      "outputs": [
        {
          "output_type": "stream",
          "name": "stdout",
          "text": [
            "Output values: 18,22,24\n"
          ]
        }
      ]
    },
    {
      "cell_type": "markdown",
      "source": [
        "#QUESTION 2:\n",
        "Write a program which takes 2 digits, X,Y as input and generates a 2-dimensional array. The\n",
        "element value in the i-th row and j-th column of the array should be i*j.\n",
        "Note: i=0,1.., X-1; j=0,1,¡Y-1.\n",
        "Example\n",
        "Suppose the following inputs are given to the program:\n",
        "3,5\n",
        "Then, the output of the program should be:\n",
        "[[0, 0, 0, 0, 0], [0, 1, 2, 3, 4], [0, 2, 4, 6, 8]]"
      ],
      "metadata": {
        "id": "-CNf-GgMi8f6"
      }
    },
    {
      "cell_type": "code",
      "source": [
        "def generate_2d_array(X, Y):\n",
        "    array = []\n",
        "\n",
        "    for i in range(X):\n",
        "        row = []\n",
        "        for j in range(Y):\n",
        "            row.append(i * j)\n",
        "        array.append(row)\n",
        "\n",
        "    return array\n",
        "\n",
        "X = 3\n",
        "Y = 5\n",
        "array = generate_2d_array(X, Y)\n",
        "\n",
        "for row in array:\n",
        "    print(row)"
      ],
      "metadata": {
        "colab": {
          "base_uri": "https://localhost:8080/"
        },
        "id": "GjJ0fss1i4qi",
        "outputId": "aed3f999-5338-4293-be28-9f5669858e6b"
      },
      "execution_count": 2,
      "outputs": [
        {
          "output_type": "stream",
          "name": "stdout",
          "text": [
            "[0, 0, 0, 0, 0]\n",
            "[0, 1, 2, 3, 4]\n",
            "[0, 2, 4, 6, 8]\n"
          ]
        }
      ]
    },
    {
      "cell_type": "markdown",
      "source": [
        "#QUESTION 3:\n",
        "Write a program that accepts a comma separated sequence of words as input and prints the\n",
        "words in a comma-separated sequence after sorting them alphabetically.\n",
        "Suppose the following input is supplied to the program:\n",
        "without,hello,bag,world\n",
        "Then, the output should be:\n",
        "bag,hello,without,world"
      ],
      "metadata": {
        "id": "nw9X7x4ojQzL"
      }
    },
    {
      "cell_type": "code",
      "source": [
        "def sort_words(input_sequence):\n",
        "    words = input_sequence.split(\",\")\n",
        "    sorted_words = sorted(words)\n",
        "    sorted_sequence = \",\".join(sorted_words)\n",
        "    return sorted_sequence\n",
        "\n",
        "# Test the function\n",
        "input_sequence = \"without,hello,bag,world\"\n",
        "sorted_sequence = sort_words(input_sequence)\n",
        "print(\"Sorted sequence:\", sorted_sequence)\n"
      ],
      "metadata": {
        "colab": {
          "base_uri": "https://localhost:8080/"
        },
        "id": "_00cSQ9pjLKk",
        "outputId": "385e97bb-5715-44cf-86a8-2315fa741cd7"
      },
      "execution_count": 3,
      "outputs": [
        {
          "output_type": "stream",
          "name": "stdout",
          "text": [
            "Sorted sequence: bag,hello,without,world\n"
          ]
        }
      ]
    },
    {
      "cell_type": "markdown",
      "source": [
        "#QUESTION 4:\n",
        "Write a program that accepts a sequence of whitespace separated words as input and prints\n",
        "the words after removing all duplicate words and sorting them alphanumerically.\n",
        "Suppose the following input is supplied to the program:\n",
        "hello world and practice makes perfect and hello world again\n",
        "Then, the output should be:\n",
        "again and hello makes perfect practice world"
      ],
      "metadata": {
        "id": "tuUuLt-UjmUP"
      }
    },
    {
      "cell_type": "code",
      "source": [
        "def remove_duplicates_and_sort(input_sequence):\n",
        "    words = input_sequence.split()\n",
        "    unique_words = list(set(words))\n",
        "    sorted_words = sorted(unique_words)\n",
        "    sorted_sequence = \" \".join(sorted_words)\n",
        "    return sorted_sequence\n",
        "\n",
        "# Test the function\n",
        "input_sequence = \"hello world and practice makes perfect and hello world again\"\n",
        "sorted_sequence = remove_duplicates_and_sort(input_sequence)\n",
        "print(\"Sorted sequence:\", sorted_sequence)\n"
      ],
      "metadata": {
        "colab": {
          "base_uri": "https://localhost:8080/"
        },
        "id": "mr4CweEWjfG6",
        "outputId": "e527fa63-cc69-49ba-daab-10245e95eec5"
      },
      "execution_count": 4,
      "outputs": [
        {
          "output_type": "stream",
          "name": "stdout",
          "text": [
            "Sorted sequence: again and hello makes perfect practice world\n"
          ]
        }
      ]
    },
    {
      "cell_type": "markdown",
      "source": [
        "#QUESTION 5:\n",
        "Write a program that accepts a sentence and calculate the number of letters and digits.\n",
        "Suppose the following input is supplied to the program:\n",
        "hello world! 123\n",
        "Then, the output should be:\n",
        "LETTERS 10\n",
        "\n",
        "DIGITS 3"
      ],
      "metadata": {
        "id": "JsaO8wpVj2uF"
      }
    },
    {
      "cell_type": "code",
      "source": [
        "def count_letters_digits(sentence):\n",
        "    letter_count = 0\n",
        "    digit_count = 0\n",
        "\n",
        "    for char in sentence:\n",
        "        if char.isalpha():\n",
        "            letter_count += 1\n",
        "        elif char.isdigit():\n",
        "            digit_count += 1\n",
        "\n",
        "    return letter_count, digit_count\n",
        "\n",
        "# Test the function\n",
        "input_sentence = \"hello world! 123\"\n",
        "letter_count, digit_count = count_letters_digits(input_sentence)\n",
        "\n",
        "print(\"LETTERS\", letter_count)\n",
        "print(\"DIGITS\", digit_count)\n"
      ],
      "metadata": {
        "colab": {
          "base_uri": "https://localhost:8080/"
        },
        "id": "czFo9U6Ojx1Q",
        "outputId": "0ba526ae-c155-408b-fde1-9e3a51f785ee"
      },
      "execution_count": 5,
      "outputs": [
        {
          "output_type": "stream",
          "name": "stdout",
          "text": [
            "LETTERS 10\n",
            "DIGITS 3\n"
          ]
        }
      ]
    },
    {
      "cell_type": "markdown",
      "source": [
        "#QUESTION 6:\n",
        "Question 6:\n",
        "A website requires the users to input username and password to register. Write a program to\n",
        "check the validity of password input by users.\n",
        "Following are the criteria for checking the password:\n",
        "1. At least 1 letter between [a-z]\n",
        "2. At least 1 number between [0-9]\n",
        "1. At least 1 letter between [A-Z]\n",
        "3. At least 1 character from [$#@]\n",
        "4. Minimum length of transaction password: 6\n",
        "5. Maximum length of transaction password: 12\n",
        "Your program should accept a sequence of comma separated passwords and will check them\n",
        "according to the above criteria. Passwords that match the criteria are to be printed, each\n",
        "separated by a comma.\n",
        "Example\n",
        "If the following passwords are given as input to the program:\n",
        "ABd1234@1,a F1#,2w3E*,2We3345\n",
        "Then, the output of the program should be:\n",
        "ABd1234@1"
      ],
      "metadata": {
        "id": "41Dv9BbzkKVW"
      }
    },
    {
      "cell_type": "code",
      "source": [
        "import re\n",
        "\n",
        "def check_password_validity(password):\n",
        "    if 6 <= len(password) <= 12:\n",
        "        if re.search(\"[a-z]\", password) and re.search(\"[0-9]\", password) and re.search(\"[A-Z]\", password) and re.search(\"[$#@]\", password):\n",
        "            return True\n",
        "    return False\n",
        "\n",
        "# Test the function\n",
        "input_passwords = \"ABd1234@1,aF1#,2w3E*,2We3345\"\n",
        "valid_passwords = []\n",
        "\n",
        "passwords = input_passwords.split(\",\")\n",
        "for password in passwords:\n",
        "    if check_password_validity(password):\n",
        "        valid_passwords.append(password)\n",
        "\n",
        "output = \",\".join(valid_passwords)\n",
        "print(output)\n",
        "\n"
      ],
      "metadata": {
        "colab": {
          "base_uri": "https://localhost:8080/"
        },
        "id": "Q5vTH67wkFC5",
        "outputId": "11f0fa8b-76e4-40ea-9f04-d8b58504a6f9"
      },
      "execution_count": 6,
      "outputs": [
        {
          "output_type": "stream",
          "name": "stdout",
          "text": [
            "ABd1234@1\n"
          ]
        }
      ]
    },
    {
      "cell_type": "code",
      "source": [],
      "metadata": {
        "id": "A8SOUwRBkaMj"
      },
      "execution_count": null,
      "outputs": []
    }
  ]
}