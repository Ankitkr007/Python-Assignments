{
  "nbformat": 4,
  "nbformat_minor": 0,
  "metadata": {
    "colab": {
      "provenance": []
    },
    "kernelspec": {
      "name": "python3",
      "display_name": "Python 3"
    },
    "language_info": {
      "name": "python"
    }
  },
  "cells": [
    {
      "cell_type": "markdown",
      "source": [
        "#QUESTION 1:\n",
        "Write a Python program to find words which are greater than given length k?"
      ],
      "metadata": {
        "id": "l1N8pG7Re3kq"
      }
    },
    {
      "cell_type": "code",
      "source": [
        "def find_words_greater_than_length(words, k):\n",
        "    result = []\n",
        "    for word in words:\n",
        "        if len(word) > k:\n",
        "            result.append(word)\n",
        "    return result\n",
        "\n",
        "# Test the function\n",
        "word_list = ['apple', 'banana', 'orange', 'grapefruit', 'kiwi']\n",
        "length = 5\n",
        "\n",
        "words_greater_than_length = find_words_greater_than_length(word_list, length)\n",
        "print(f\"Words greater than length {length}: {words_greater_than_length}\")\n"
      ],
      "metadata": {
        "colab": {
          "base_uri": "https://localhost:8080/"
        },
        "id": "dhI4xNEee-Jy",
        "outputId": "cf804f2a-0250-414e-d242-12245873dfdf"
      },
      "execution_count": 1,
      "outputs": [
        {
          "output_type": "stream",
          "name": "stdout",
          "text": [
            "Words greater than length 5: ['banana', 'orange', 'grapefruit']\n"
          ]
        }
      ]
    },
    {
      "cell_type": "markdown",
      "source": [
        "#QUESTION 2:\n",
        "Write a Python program for removing i-th character from a string?"
      ],
      "metadata": {
        "id": "SrzU74JkfRxH"
      }
    },
    {
      "cell_type": "code",
      "source": [
        "def remove_character(string, i):\n",
        "    if i < 0 or i >= len(string):\n",
        "        return string\n",
        "    else:\n",
        "        return string[:i] + string[i+1:]\n",
        "\n",
        "# Test the function\n",
        "input_string = \"Hello, World!\"\n",
        "index = 7\n",
        "\n",
        "result_string = remove_character(input_string, index)\n",
        "print(\"String after removing character:\", result_string)\n"
      ],
      "metadata": {
        "colab": {
          "base_uri": "https://localhost:8080/"
        },
        "id": "sbPEfaaOfHS5",
        "outputId": "35ca6233-0c7b-4b7c-af65-b2c344c46b4f"
      },
      "execution_count": 2,
      "outputs": [
        {
          "output_type": "stream",
          "name": "stdout",
          "text": [
            "String after removing character: Hello, orld!\n"
          ]
        }
      ]
    },
    {
      "cell_type": "markdown",
      "source": [
        "#QUESTION 3:\n",
        "Write a Python program to split and join a string?"
      ],
      "metadata": {
        "id": "CMVynS0-feI8"
      }
    },
    {
      "cell_type": "code",
      "source": [
        "def split_and_join_string(string):\n",
        "    # Split the string into a list of words\n",
        "    words = string.split()\n",
        "\n",
        "    # Join the words back into a single string using a space as the separator\n",
        "    joined_string = ' '.join(words)\n",
        "\n",
        "    return joined_string\n",
        "\n",
        "# Test the function\n",
        "input_string = \"Hello, World! How are you?\"\n",
        "\n",
        "split_and_joined_string = split_and_join_string(input_string)\n",
        "print(\"Split and joined string:\", split_and_joined_string)\n"
      ],
      "metadata": {
        "colab": {
          "base_uri": "https://localhost:8080/"
        },
        "id": "W9358-UifcLL",
        "outputId": "11172706-e7eb-44aa-988b-61185993d96b"
      },
      "execution_count": 3,
      "outputs": [
        {
          "output_type": "stream",
          "name": "stdout",
          "text": [
            "Split and joined string: Hello, World! How are you?\n"
          ]
        }
      ]
    },
    {
      "cell_type": "markdown",
      "source": [
        "#QUESTION 4:\n",
        "Write a Python to check if a given string is binary string or not?"
      ],
      "metadata": {
        "id": "HZ6C3Id2fnLW"
      }
    },
    {
      "cell_type": "code",
      "source": [
        "def is_binary_string(string):\n",
        "    for char in string:\n",
        "        if char != '0' and char != '1':\n",
        "            return False\n",
        "    return True\n",
        "\n",
        "# Test the function\n",
        "input_string = \"101010\"\n",
        "is_binary = is_binary_string(input_string)\n",
        "if is_binary:\n",
        "    print(\"The string is a binary string.\")\n",
        "else:\n",
        "    print(\"The string is not a binary string.\")\n"
      ],
      "metadata": {
        "colab": {
          "base_uri": "https://localhost:8080/"
        },
        "id": "Cb3S00CJflYi",
        "outputId": "9b0aed65-97ad-47ff-eecb-077b7a750056"
      },
      "execution_count": 4,
      "outputs": [
        {
          "output_type": "stream",
          "name": "stdout",
          "text": [
            "The string is a binary string.\n"
          ]
        }
      ]
    },
    {
      "cell_type": "markdown",
      "source": [
        "#QUESTION 5:\n",
        "Write a Python program to find uncommon words from two Strings?"
      ],
      "metadata": {
        "id": "din8n0u4f4kT"
      }
    },
    {
      "cell_type": "code",
      "source": [
        "def find_uncommon_words(string1, string2):\n",
        "    # Split the strings into lists of words\n",
        "    words1 = string1.split()\n",
        "    words2 = string2.split()\n",
        "\n",
        "    # Find the uncommon words\n",
        "    uncommon_words = set(words1).symmetric_difference(set(words2))\n",
        "\n",
        "    return uncommon_words\n",
        "\n",
        "# Test the function\n",
        "string1 = \"Hello world how are you?\"\n",
        "string2 = \"Hello universe how is it going?\"\n",
        "\n",
        "uncommon_words = find_uncommon_words(string1, string2)\n",
        "print(\"Uncommon words:\", uncommon_words)\n"
      ],
      "metadata": {
        "colab": {
          "base_uri": "https://localhost:8080/"
        },
        "id": "d0xFOkMxf3TO",
        "outputId": "46fe4e2f-6944-4f17-b2ab-6bc98a1c10d2"
      },
      "execution_count": 5,
      "outputs": [
        {
          "output_type": "stream",
          "name": "stdout",
          "text": [
            "Uncommon words: {'going?', 'universe', 'world', 'are', 'you?', 'it', 'is'}\n"
          ]
        }
      ]
    },
    {
      "cell_type": "markdown",
      "source": [
        "#QUESTION 6:\n",
        "Write a Python to find all duplicate characters in string?"
      ],
      "metadata": {
        "id": "Uogf0nnugI-r"
      }
    },
    {
      "cell_type": "code",
      "source": [
        "def find_duplicate_characters(string):\n",
        "    duplicates = set()\n",
        "    seen = set()\n",
        "    for char in string:\n",
        "        if char in seen:\n",
        "            duplicates.add(char)\n",
        "        else:\n",
        "            seen.add(char)\n",
        "\n",
        "    return duplicates\n",
        "\n",
        "# Testing the function\n",
        "input_string = \"Hello, World!\"\n",
        "\n",
        "duplicate_characters = find_duplicate_characters(input_string)\n",
        "print(\"Duplicate characters:\", duplicate_characters)"
      ],
      "metadata": {
        "colab": {
          "base_uri": "https://localhost:8080/"
        },
        "id": "4j3y_TK9gF4f",
        "outputId": "5688caa4-36d4-4c2e-fea8-5c19775415ea"
      },
      "execution_count": 6,
      "outputs": [
        {
          "output_type": "stream",
          "name": "stdout",
          "text": [
            "Duplicate characters: {'o', 'l'}\n"
          ]
        }
      ]
    },
    {
      "cell_type": "markdown",
      "source": [
        "#QUESTION 7:\n",
        "Write a Python Program to check if a string contains any special character?"
      ],
      "metadata": {
        "id": "KRMjsJdggZCu"
      }
    },
    {
      "cell_type": "code",
      "source": [
        "import re\n",
        "\n",
        "def contains_special_character(string):\n",
        "    pattern = r'[^a-zA-Z0-9\\s]'\n",
        "    match = re.search(pattern, string)\n",
        "    return match is not None\n",
        "\n",
        "# Testing the function\n",
        "input_string = \"Hello, World!\"\n",
        "contains_special = contains_special_character(input_string)\n",
        "\n",
        "if contains_special:\n",
        "    print(\"The string contains special characters.\")\n",
        "else:\n",
        "    print(\"The string does not contain special characters.\")\n"
      ],
      "metadata": {
        "colab": {
          "base_uri": "https://localhost:8080/"
        },
        "id": "i0R6--3GgXqt",
        "outputId": "02bf1938-2855-493f-a1ea-e501f462eba8"
      },
      "execution_count": 7,
      "outputs": [
        {
          "output_type": "stream",
          "name": "stdout",
          "text": [
            "The string contains special characters.\n"
          ]
        }
      ]
    }
  ]
}