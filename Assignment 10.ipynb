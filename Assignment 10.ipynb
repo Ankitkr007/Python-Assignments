{
  "nbformat": 4,
  "nbformat_minor": 0,
  "metadata": {
    "colab": {
      "provenance": []
    },
    "kernelspec": {
      "name": "python3",
      "display_name": "Python 3"
    },
    "language_info": {
      "name": "python"
    }
  },
  "cells": [
    {
      "cell_type": "markdown",
      "source": [
        "#QUESTION 1:\n",
        "Write a Python program to find sum of elements in list?"
      ],
      "metadata": {
        "id": "-jgJy5q5cJZb"
      }
    },
    {
      "cell_type": "code",
      "source": [
        "def sum_of_elements(lst):\n",
        "    total = sum(lst)\n",
        "    return total\n",
        "\n",
        "# Test the function\n",
        "numbers = [1, 2, 3, 4, 5]\n",
        "\n",
        "list_sum = sum_of_elements(numbers)\n",
        "print(\"Sum of elements:\", list_sum)\n"
      ],
      "metadata": {
        "colab": {
          "base_uri": "https://localhost:8080/",
          "height": 0
        },
        "id": "n856-i9HcOp_",
        "outputId": "c5b60077-a8b9-4a90-ebdb-6828898a6319"
      },
      "execution_count": 1,
      "outputs": [
        {
          "output_type": "stream",
          "name": "stdout",
          "text": [
            "Sum of elements: 15\n"
          ]
        }
      ]
    },
    {
      "cell_type": "markdown",
      "source": [
        "#QUESTION 2:\n",
        "Write a Python program to Multiply all numbers in the list?"
      ],
      "metadata": {
        "id": "vergrSI5cm-x"
      }
    },
    {
      "cell_type": "code",
      "source": [
        "def multiply_numbers(lst):\n",
        "    result = 1\n",
        "    for number in lst:\n",
        "        result *= number\n",
        "    return result\n",
        "\n",
        "# Test the function\n",
        "numbers = [1, 2, 3, 4, 5]\n",
        "\n",
        "product = multiply_numbers(numbers)\n",
        "print(\"Product of numbers:\", product)\n"
      ],
      "metadata": {
        "colab": {
          "base_uri": "https://localhost:8080/",
          "height": 0
        },
        "id": "9JvuqDTbcjkN",
        "outputId": "311ba038-d3cf-4e99-a610-40661db83caa"
      },
      "execution_count": 2,
      "outputs": [
        {
          "output_type": "stream",
          "name": "stdout",
          "text": [
            "Product of numbers: 120\n"
          ]
        }
      ]
    },
    {
      "cell_type": "markdown",
      "source": [
        "#QUESTION 3:\n",
        "Write a Python program to find smallest number in a list?\n"
      ],
      "metadata": {
        "id": "uW620Fdgczaj"
      }
    },
    {
      "cell_type": "code",
      "source": [
        "def find_smallest_number(lst):\n",
        "    smallest = min(lst)\n",
        "    return smallest\n",
        "\n",
        "# Test the function\n",
        "numbers = [5, 2, 8, 1, 9]\n",
        "\n",
        "smallest_number = find_smallest_number(numbers)\n",
        "print(\"Smallest number:\", smallest_number)\n"
      ],
      "metadata": {
        "colab": {
          "base_uri": "https://localhost:8080/",
          "height": 0
        },
        "id": "J-tcNeb2cyGa",
        "outputId": "c63065f7-5480-48c6-ac64-6f1dc3e5e14c"
      },
      "execution_count": 3,
      "outputs": [
        {
          "output_type": "stream",
          "name": "stdout",
          "text": [
            "Smallest number: 1\n"
          ]
        }
      ]
    },
    {
      "cell_type": "markdown",
      "source": [
        "#QUESTION 4:\n",
        "Write a Python program to find largest number in a list?"
      ],
      "metadata": {
        "id": "YZdMjmbPdAlJ"
      }
    },
    {
      "cell_type": "code",
      "source": [
        "def find_largest_number(lst):\n",
        "    largest = max(lst)\n",
        "    return largest\n",
        "\n",
        "# Test the function\n",
        "numbers = [5, 2, 8, 1, 9]\n",
        "\n",
        "largest_number = find_largest_number(numbers)\n",
        "print(\"Largest number:\", largest_number)\n"
      ],
      "metadata": {
        "colab": {
          "base_uri": "https://localhost:8080/",
          "height": 0
        },
        "id": "uJd2GyYqc_sU",
        "outputId": "970a4939-c4a9-4163-9f94-ad70c2e9883c"
      },
      "execution_count": 4,
      "outputs": [
        {
          "output_type": "stream",
          "name": "stdout",
          "text": [
            "Largest number: 9\n"
          ]
        }
      ]
    },
    {
      "cell_type": "markdown",
      "source": [
        "#QUESTION 5:\n",
        "Write a Python program to find second largest number in a list?"
      ],
      "metadata": {
        "id": "P5Zr6dfpdM02"
      }
    },
    {
      "cell_type": "code",
      "source": [
        "def find_second_largest_number(lst):\n",
        "    largest = float('-inf')\n",
        "    second_largest = float('-inf')\n",
        "\n",
        "    for number in lst:\n",
        "        if number > largest:\n",
        "            second_largest = largest\n",
        "            largest = number\n",
        "        elif number > second_largest and number != largest:\n",
        "            second_largest = number\n",
        "\n",
        "    return second_largest\n",
        "\n",
        "# Test the function\n",
        "numbers = [5, 2, 8, 1, 9]\n",
        "\n",
        "second_largest_number = find_second_largest_number(numbers)\n",
        "print(\"Second largest number:\", second_largest_number)\n"
      ],
      "metadata": {
        "colab": {
          "base_uri": "https://localhost:8080/",
          "height": 0
        },
        "id": "HltBFayDdLmY",
        "outputId": "3a3e5a48-5a44-4af8-c799-712dc75d18bd"
      },
      "execution_count": 5,
      "outputs": [
        {
          "output_type": "stream",
          "name": "stdout",
          "text": [
            "Second largest number: 8\n"
          ]
        }
      ]
    },
    {
      "cell_type": "markdown",
      "source": [
        "#QUESTION 6:\n",
        "Write a Python program to find N largest elements from a list?"
      ],
      "metadata": {
        "id": "uMDitrQIdbc8"
      }
    },
    {
      "cell_type": "code",
      "source": [
        "def find_n_largest_elements(lst, n):\n",
        "    sorted_lst = sorted(lst, reverse=True)\n",
        "    n_largest_elements = sorted_lst[:n]\n",
        "    return n_largest_elements\n",
        "\n",
        "# Test the function\n",
        "numbers = [5, 2, 8, 1, 9, 3, 6, 4, 7]\n",
        "n = 3\n",
        "\n",
        "n_largest = find_n_largest_elements(numbers, n)\n",
        "print(f\"{n} largest elements:\", n_largest)\n"
      ],
      "metadata": {
        "colab": {
          "base_uri": "https://localhost:8080/",
          "height": 0
        },
        "id": "jFhaOtMQdam0",
        "outputId": "e144733b-e0de-4f41-dc7c-34f7d7fb9b87"
      },
      "execution_count": 6,
      "outputs": [
        {
          "output_type": "stream",
          "name": "stdout",
          "text": [
            "3 largest elements: [9, 8, 7]\n"
          ]
        }
      ]
    },
    {
      "cell_type": "markdown",
      "source": [
        "#QUESTION 7:\n",
        "Write a Python program to print even numbers in a list?"
      ],
      "metadata": {
        "id": "lyn8ArGcdnlG"
      }
    },
    {
      "cell_type": "code",
      "source": [
        "def print_even_numbers(lst):\n",
        "    for number in lst:\n",
        "        if number % 2 == 0:\n",
        "            print(number)\n",
        "\n",
        "# Test the function\n",
        "numbers = [1, 2, 3, 4, 5, 6, 7, 8, 9, 10]\n",
        "\n",
        "print(\"Even numbers in the list:\")\n",
        "print_even_numbers(numbers)\n"
      ],
      "metadata": {
        "colab": {
          "base_uri": "https://localhost:8080/",
          "height": 0
        },
        "id": "7OLhlrE9dm3b",
        "outputId": "ffcf180b-bbcd-445b-9a73-75331019586c"
      },
      "execution_count": 7,
      "outputs": [
        {
          "output_type": "stream",
          "name": "stdout",
          "text": [
            "Even numbers in the list:\n",
            "2\n",
            "4\n",
            "6\n",
            "8\n",
            "10\n"
          ]
        }
      ]
    },
    {
      "cell_type": "markdown",
      "source": [
        "#QUESTION 8:\n",
        "Write a Python program to print odd numbers in a List?"
      ],
      "metadata": {
        "id": "QyYmOQcadzqM"
      }
    },
    {
      "cell_type": "code",
      "source": [
        "def print_odd_numbers(lst):\n",
        "    for number in lst:\n",
        "        if number % 2 != 0:\n",
        "            print(number)\n",
        "\n",
        "# Test the function\n",
        "numbers = [1, 2, 3, 4, 5, 6, 7, 8, 9, 10]\n",
        "\n",
        "print(\"Odd numbers in the list:\")\n",
        "print_odd_numbers(numbers)\n"
      ],
      "metadata": {
        "colab": {
          "base_uri": "https://localhost:8080/",
          "height": 0
        },
        "id": "03Uw7hV0dvid",
        "outputId": "92cee3cf-c5d9-4957-8897-1ea30f2142ab"
      },
      "execution_count": 8,
      "outputs": [
        {
          "output_type": "stream",
          "name": "stdout",
          "text": [
            "Odd numbers in the list:\n",
            "1\n",
            "3\n",
            "5\n",
            "7\n",
            "9\n"
          ]
        }
      ]
    },
    {
      "cell_type": "markdown",
      "source": [
        "#QUESTION 9:\n",
        "Write a Python program to Remove empty List from List?"
      ],
      "metadata": {
        "id": "8dDFW8AWd-ip"
      }
    },
    {
      "cell_type": "code",
      "source": [
        "def remove_empty_lists(lst):\n",
        "    return [sublist for sublist in lst if sublist]\n",
        "\n",
        "# Test the function\n",
        "my_list = [[1, 2, 3], [], [4, 5], [], [], [6]]\n",
        "\n",
        "print(\"Original list:\", my_list)\n",
        "cleaned_list = remove_empty_lists(my_list)\n",
        "print(\"List after removing empty lists:\", cleaned_list)\n"
      ],
      "metadata": {
        "colab": {
          "base_uri": "https://localhost:8080/",
          "height": 0
        },
        "id": "sLuys3jQd9zb",
        "outputId": "d62ee197-25e1-40e1-8a33-f1532c34944b"
      },
      "execution_count": 9,
      "outputs": [
        {
          "output_type": "stream",
          "name": "stdout",
          "text": [
            "Original list: [[1, 2, 3], [], [4, 5], [], [], [6]]\n",
            "List after removing empty lists: [[1, 2, 3], [4, 5], [6]]\n"
          ]
        }
      ]
    },
    {
      "cell_type": "markdown",
      "source": [
        "#QUESTION 10:\n",
        "Write a Python program to Cloning or Copying a list?"
      ],
      "metadata": {
        "id": "DXaeqKnveJXF"
      }
    },
    {
      "cell_type": "code",
      "source": [
        "def clone_list(lst):\n",
        "    return lst.copy()\n",
        "\n",
        "# Test the function\n",
        "original_list = [1, 2, 3, 4, 5]\n",
        "\n",
        "print(\"Original list:\", original_list)\n",
        "cloned_list = clone_list(original_list)\n",
        "print(\"Cloned list:\", cloned_list)\n"
      ],
      "metadata": {
        "colab": {
          "base_uri": "https://localhost:8080/",
          "height": 0
        },
        "id": "dUc2yXbKeH_z",
        "outputId": "fb058c34-321a-4bb1-8ac6-5ef81a72d0e4"
      },
      "execution_count": 10,
      "outputs": [
        {
          "output_type": "stream",
          "name": "stdout",
          "text": [
            "Original list: [1, 2, 3, 4, 5]\n",
            "Cloned list: [1, 2, 3, 4, 5]\n"
          ]
        }
      ]
    },
    {
      "cell_type": "markdown",
      "source": [
        "#QUESTION 11:\n",
        "Write a Python program to Count occurrences of an element in a list?"
      ],
      "metadata": {
        "id": "Cv-ECNzQeUNW"
      }
    },
    {
      "cell_type": "code",
      "source": [
        "def count_occurrences(lst, element):\n",
        "    count = lst.count(element)\n",
        "    return count\n",
        "\n",
        "# Test the function\n",
        "numbers = [1, 2, 3, 4, 5, 2, 2]\n",
        "\n",
        "element = 2\n",
        "\n",
        "occurrences = count_occurrences(numbers, element)\n",
        "print(f\"Number of occurrences of {element}: {occurrences}\")\n"
      ],
      "metadata": {
        "colab": {
          "base_uri": "https://localhost:8080/",
          "height": 0
        },
        "id": "tZChqWcDeRco",
        "outputId": "b1dbef8e-8864-4b46-e4b9-b82c9e716bb0"
      },
      "execution_count": 11,
      "outputs": [
        {
          "output_type": "stream",
          "name": "stdout",
          "text": [
            "Number of occurrences of 2: 3\n"
          ]
        }
      ]
    }
  ]
}