{
  "nbformat": 4,
  "nbformat_minor": 0,
  "metadata": {
    "colab": {
      "provenance": []
    },
    "kernelspec": {
      "name": "python3",
      "display_name": "Python 3"
    },
    "language_info": {
      "name": "python"
    }
  },
  "cells": [
    {
      "cell_type": "markdown",
      "source": [
        "#QUESTION 1:\n",
        "Write a Python Program to find sum of array?"
      ],
      "metadata": {
        "id": "_W7S4W70WUcn"
      }
    },
    {
      "cell_type": "code",
      "source": [
        "def array_sum(arr):\n",
        "    sum = 0\n",
        "    for num in arr:\n",
        "        sum += num\n",
        "    return sum\n",
        "\n",
        "# Test the function\n",
        "array = [1, 2, 3, 4, 5]\n",
        "\n",
        "result = array_sum(array)\n",
        "print(f\"The sum of the array is: {result}\")\n"
      ],
      "metadata": {
        "colab": {
          "base_uri": "https://localhost:8080/"
        },
        "id": "PJnU2jD9Wbpr",
        "outputId": "009e4cbd-f790-40db-de71-21051e3a3aa6"
      },
      "execution_count": 1,
      "outputs": [
        {
          "output_type": "stream",
          "name": "stdout",
          "text": [
            "The sum of the array is: 15\n"
          ]
        }
      ]
    },
    {
      "cell_type": "markdown",
      "source": [
        "#QUESTION 2:\n",
        "Write a Python Program to find largest element in an array?"
      ],
      "metadata": {
        "id": "jxkVs8RyW3IF"
      }
    },
    {
      "cell_type": "code",
      "source": [
        "def find_largest(arr):\n",
        "    largest = arr[0]\n",
        "    for num in arr:\n",
        "        if num > largest:\n",
        "            largest = num\n",
        "    return largest\n",
        "\n",
        "# Testing the function\n",
        "array = [5, 12, 3, 8, 21]\n",
        "\n",
        "result = find_largest(array)\n",
        "print(f\"The largest element in the array is: {result}\")\n"
      ],
      "metadata": {
        "colab": {
          "base_uri": "https://localhost:8080/"
        },
        "id": "syxT9cEcWkLe",
        "outputId": "a28328df-feb9-40ca-bd8e-d7c5ff4844fc"
      },
      "execution_count": 2,
      "outputs": [
        {
          "output_type": "stream",
          "name": "stdout",
          "text": [
            "The largest element in the array is: 21\n"
          ]
        }
      ]
    },
    {
      "cell_type": "markdown",
      "source": [
        "#QUESTION 3:\n",
        "Write a Python Program for array rotation?"
      ],
      "metadata": {
        "id": "Jii8UCLUXH4s"
      }
    },
    {
      "cell_type": "code",
      "source": [
        "def rotate_array(arr, n):\n",
        "    rotations = n % len(arr)\n",
        "    rotated_arr = arr[rotations:] + arr[:rotations]\n",
        "    return rotated_arr\n",
        "\n",
        "# Test the function\n",
        "array = [1, 2, 3, 4, 5]\n",
        "rotate_by = 2\n",
        "\n",
        "rotated_array = rotate_array(array, rotate_by)\n",
        "print(f\"The array after rotation is: {rotated_array}\")\n"
      ],
      "metadata": {
        "colab": {
          "base_uri": "https://localhost:8080/"
        },
        "id": "gJbMkGePXD2l",
        "outputId": "5eda0479-3004-4ab8-8a93-d89f1e0999cd"
      },
      "execution_count": 3,
      "outputs": [
        {
          "output_type": "stream",
          "name": "stdout",
          "text": [
            "The array after rotation is: [3, 4, 5, 1, 2]\n"
          ]
        }
      ]
    },
    {
      "cell_type": "markdown",
      "source": [
        "#QUESTION 4:\n",
        "Write a Python Program to Split the array and add the first part to the end?"
      ],
      "metadata": {
        "id": "snCRj3P8XQic"
      }
    },
    {
      "cell_type": "code",
      "source": [
        "def split_and_add(arr, split_index):\n",
        "    if split_index >= len(arr):\n",
        "        return arr\n",
        "\n",
        "    first_part = arr[:split_index]\n",
        "    second_part = arr[split_index:]\n",
        "\n",
        "    result = second_part + first_part\n",
        "    return result\n",
        "\n",
        "# Test the function\n",
        "array = [1, 2, 3, 4, 5]\n",
        "split_index = 2\n",
        "\n",
        "new_array = split_and_add(array, split_index)\n",
        "print(f\"The modified array is: {new_array}\")"
      ],
      "metadata": {
        "colab": {
          "base_uri": "https://localhost:8080/"
        },
        "id": "TjnaKSTxXN80",
        "outputId": "e90c4069-0b25-4c69-edd4-6e169ba357e5"
      },
      "execution_count": 4,
      "outputs": [
        {
          "output_type": "stream",
          "name": "stdout",
          "text": [
            "The modified array is: [3, 4, 5, 1, 2]\n"
          ]
        }
      ]
    },
    {
      "cell_type": "markdown",
      "source": [
        "#QUESTION 5:\n",
        "Write a Python Program to check if given array is Monotonic?"
      ],
      "metadata": {
        "id": "hfZl5JFAXmOk"
      }
    },
    {
      "cell_type": "code",
      "source": [
        "def is_monotonic(arr):\n",
        "    increasing = decreasing = True\n",
        "\n",
        "    for i in range(1, len(arr)):\n",
        "        if arr[i] > arr[i - 1]:\n",
        "            decreasing = False\n",
        "        elif arr[i] < arr[i - 1]:\n",
        "            increasing = False\n",
        "\n",
        "    return increasing or decreasing\n",
        "\n",
        "# Test the function\n",
        "array = [1, 2, 3, 4, 5]\n",
        "monotonic = is_monotonic(array)\n",
        "if monotonic:\n",
        "    print(\"The array is monotonic.\")\n",
        "else:\n",
        "    print(\"The array is not monotonic.\")\n"
      ],
      "metadata": {
        "colab": {
          "base_uri": "https://localhost:8080/"
        },
        "id": "J1S2lDQPXb8j",
        "outputId": "cc9f4c27-3fe9-421d-b248-678d254787d5"
      },
      "execution_count": 5,
      "outputs": [
        {
          "output_type": "stream",
          "name": "stdout",
          "text": [
            "The array is monotonic.\n"
          ]
        }
      ]
    },
    {
      "cell_type": "code",
      "source": [],
      "metadata": {
        "id": "R3V2BlGXXuBr"
      },
      "execution_count": null,
      "outputs": []
    }
  ]
}